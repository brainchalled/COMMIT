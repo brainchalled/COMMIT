{
 "cells": [
  {
   "cell_type": "code",
   "execution_count": 17,
   "id": "41fb14fe-4a52-4f52-95f9-428d552295de",
   "metadata": {},
   "outputs": [
    {
     "name": "stdin",
     "output_type": "stream",
     "text": [
      "Enter the end value:  5\n"
     ]
    },
    {
     "name": "stdout",
     "output_type": "stream",
     "text": [
      "sum of 1 to 5 is 15\n"
     ]
    }
   ],
   "source": [
    "n = int(input(\"Enter the end value: \"))\n",
    "i = 1\n",
    "t = 0\n",
    "while i in range(1, n+1):\n",
    "    t += i\n",
    "    i += 1 \n",
    "print(\"sum of 1 to {} is {}\" .format(n,t))\n",
    "    "
   ]
  },
  {
   "cell_type": "code",
   "execution_count": 33,
   "id": "be369e1a-e460-4a2d-8f4e-7ddeb5ecfd2a",
   "metadata": {},
   "outputs": [
    {
     "name": "stdin",
     "output_type": "stream",
     "text": [
      "Enter an integer:  5\n"
     ]
    },
    {
     "name": "stdout",
     "output_type": "stream",
     "text": [
      "120\n"
     ]
    }
   ],
   "source": [
    "n = int(input(\"Enter an integer: \"))\n",
    "f = 1\n",
    "for i in range (1, n+1):\n",
    "    f = f * i\n",
    "print(f)\n",
    "    "
   ]
  },
  {
   "cell_type": "code",
   "execution_count": 45,
   "id": "411eb040-5ba6-4dac-addc-d921604097da",
   "metadata": {},
   "outputs": [
    {
     "name": "stdin",
     "output_type": "stream",
     "text": [
      "Enter end value:  10\n"
     ]
    },
    {
     "name": "stdout",
     "output_type": "stream",
     "text": [
      "1\n",
      "2\n",
      "4\n",
      "8\n"
     ]
    }
   ],
   "source": [
    "n = int(input(\"Enter end value: \"))\n",
    "t = 1\n",
    "while t in range(1, n+1):\n",
    "    print (t)\n",
    "    t += t"
   ]
  },
  {
   "cell_type": "code",
   "execution_count": 37,
   "id": "3995c4ef-b255-48e2-8ee9-240cf2203d09",
   "metadata": {},
   "outputs": [
    {
     "name": "stdout",
     "output_type": "stream",
     "text": [
      "1 x 1 =  1  1 x 2 =  2  1 x 3 =  3  1 x 4 =  4  1 x 5 =  5  1 x 6 =  6  1 x 7 =  7  1 x 8 =  8  1 x 9 =  9  \n",
      "2 x 1 =  2  2 x 2 =  4  2 x 3 =  6  2 x 4 =  8  2 x 5 = 10  2 x 6 = 12  2 x 7 = 14  2 x 8 = 16  2 x 9 = 18  \n",
      "3 x 1 =  3  3 x 2 =  6  3 x 3 =  9  3 x 4 = 12  3 x 5 = 15  3 x 6 = 18  3 x 7 = 21  3 x 8 = 24  3 x 9 = 27  \n",
      "4 x 1 =  4  4 x 2 =  8  4 x 3 = 12  4 x 4 = 16  4 x 5 = 20  4 x 6 = 24  4 x 7 = 28  4 x 8 = 32  4 x 9 = 36  \n",
      "5 x 1 =  5  5 x 2 = 10  5 x 3 = 15  5 x 4 = 20  5 x 5 = 25  5 x 6 = 30  5 x 7 = 35  5 x 8 = 40  5 x 9 = 45  \n",
      "6 x 1 =  6  6 x 2 = 12  6 x 3 = 18  6 x 4 = 24  6 x 5 = 30  6 x 6 = 36  6 x 7 = 42  6 x 8 = 48  6 x 9 = 54  \n",
      "7 x 1 =  7  7 x 2 = 14  7 x 3 = 21  7 x 4 = 28  7 x 5 = 35  7 x 6 = 42  7 x 7 = 49  7 x 8 = 56  7 x 9 = 63  \n",
      "8 x 1 =  8  8 x 2 = 16  8 x 3 = 24  8 x 4 = 32  8 x 5 = 40  8 x 6 = 48  8 x 7 = 56  8 x 8 = 64  8 x 9 = 72  \n",
      "9 x 1 =  9  9 x 2 = 18  9 x 3 = 27  9 x 4 = 36  9 x 5 = 45  9 x 6 = 54  9 x 7 = 63  9 x 8 = 72  9 x 9 = 81  \n"
     ]
    }
   ],
   "source": [
    "for i in range(1,10):\n",
    "    for t in range(1,10):\n",
    "        print(\"{} x {} = {:2d} \".format(i,t, i * t), end = ' ')\n",
    "    print()"
   ]
  },
  {
   "cell_type": "code",
   "execution_count": 39,
   "id": "c2ec5889-fe40-48c5-8b40-f8852e91228d",
   "metadata": {},
   "outputs": [
    {
     "name": "stdout",
     "output_type": "stream",
     "text": [
      "[1, 2, 3, 4, 5]\n",
      "[1, 4, 9, 16, 25]\n"
     ]
    }
   ],
   "source": [
    "numbers = [ 1, 2, 3, 4, 5 ]\n",
    "print(numbers)\n",
    "s = [x**2 for x in numbers]\n",
    "print(s)"
   ]
  },
  {
   "cell_type": "code",
   "execution_count": 4,
   "id": "6a21b937-d209-4786-a437-da385cf094f5",
   "metadata": {},
   "outputs": [
    {
     "name": "stdin",
     "output_type": "stream",
     "text": [
      "enter where to start the countdown:  10\n"
     ]
    },
    {
     "name": "stdout",
     "output_type": "stream",
     "text": [
      "10\n",
      "9\n",
      "8\n",
      "7\n",
      "6\n",
      "5\n",
      "4\n",
      "3\n",
      "2\n",
      "1\n",
      "Liftoff!\n"
     ]
    }
   ],
   "source": [
    "count = int(input(\"enter where to start the countdown: \")) + 1\n",
    "n = 1\n",
    "while n < count:\n",
    "    count -= 1\n",
    "    print(count)\n",
    "print(\"Liftoff!\")"
   ]
  },
  {
   "cell_type": "code",
   "execution_count": 16,
   "id": "57291d50-7371-447f-b9e9-63eb5b0a7afa",
   "metadata": {},
   "outputs": [
    {
     "name": "stdin",
     "output_type": "stream",
     "text": [
      "Enter end value:  5\n"
     ]
    },
    {
     "name": "stdout",
     "output_type": "stream",
     "text": [
      "15\n"
     ]
    }
   ],
   "source": [
    "n = int(input(\"Enter end value: \")) + 1\n",
    "i = 1\n",
    "t = 0\n",
    "while i in range(1,n):\n",
    "    t += i\n",
    "    i += 1\n",
    "print(t)"
   ]
  },
  {
   "cell_type": "code",
   "execution_count": 27,
   "id": "c2fc9cf1-edf3-4f6c-a1ec-afda600a476c",
   "metadata": {},
   "outputs": [
    {
     "name": "stdout",
     "output_type": "stream",
     "text": [
      "0.6271075061077012\n"
     ]
    }
   ],
   "source": [
    "import random as yy\n",
    "print(rd.random())\n"
   ]
  },
  {
   "cell_type": "code",
   "execution_count": 10,
   "id": "310128de-47cb-4740-9829-790e542f091a",
   "metadata": {},
   "outputs": [
    {
     "name": "stdin",
     "output_type": "stream",
     "text": [
      "Enter first:  5\n",
      "Enter second:  5\n"
     ]
    },
    {
     "name": "stdout",
     "output_type": "stream",
     "text": [
      "1 x 1 =  1   1 x 2 =  2   1 x 3 =  3   1 x 4 =  4   1 x 5 =  5   \n",
      "2 x 1 =  2   2 x 2 =  4   2 x 3 =  6   2 x 4 =  8   2 x 5 = 10   \n",
      "3 x 1 =  3   3 x 2 =  6   3 x 3 =  9   3 x 4 = 12   3 x 5 = 15   \n",
      "4 x 1 =  4   4 x 2 =  8   4 x 3 = 12   4 x 4 = 16   4 x 5 = 20   \n",
      "5 x 1 =  5   5 x 2 = 10   5 x 3 = 15   5 x 4 = 20   5 x 5 = 25   \n"
     ]
    }
   ],
   "source": [
    "f = int(input(\"Enter  first: \")) #inputs the end value of the first digit\n",
    "s = int(input(\"Enter second: \")) #inputs the end value of the second digit\n",
    "for i in range(1,f+1):\n",
    "    for t in range(1,s+1):\n",
    "        print(\"{} x {} = {:2d}  \".format(i,t,i*t),end = ' ')\n",
    "    print()"
   ]
  },
  {
   "cell_type": "code",
   "execution_count": 12,
   "id": "2fb98350-990f-4c37-869a-562ed8c8c9d3",
   "metadata": {},
   "outputs": [
    {
     "name": "stdout",
     "output_type": "stream",
     "text": [
      "67\n",
      "35\n",
      "80\n",
      "12\n",
      "95\n",
      "49\n"
     ]
    }
   ],
   "source": [
    "numbers = [67, 35, 80, 12, 95, 49]\n",
    "for i in numbers:\n",
    "    print(i)"
   ]
  },
  {
   "cell_type": "code",
   "execution_count": 14,
   "id": "f4a50e54-19dd-48bc-9ef8-2ca1b2ecce85",
   "metadata": {},
   "outputs": [
    {
     "name": "stdin",
     "output_type": "stream",
     "text": [
      "Enter word to be reversed:  joakim\n"
     ]
    },
    {
     "name": "stdout",
     "output_type": "stream",
     "text": [
      "mikaoj\n"
     ]
    }
   ],
   "source": [
    "word = input(\"Enter word to be reversed: \")\n",
    "print(word[::-1]) #reverses the string"
   ]
  },
  {
   "cell_type": "code",
   "execution_count": 10,
   "id": "84a87f99-e358-47e5-bff3-567d6c0e36d1",
   "metadata": {},
   "outputs": [
    {
     "name": "stdin",
     "output_type": "stream",
     "text": [
      "Even or Odd?  evev\n",
      "Please choose again >>> Even or Odd:  even\n",
      "Where to start:  50\n",
      "Where to end:  100\n"
     ]
    },
    {
     "name": "stdout",
     "output_type": "stream",
     "text": [
      "Even numbers between 50 and 100 are 26 \n"
     ]
    }
   ],
   "source": [
    "choice = input(\"Even or Odd? \").lower()\n",
    "count = 0\n",
    "\n",
    "while choice != \"even\" and choice != \"odd\":\n",
    "    choice = input(\"Please choose again >>> Even or Odd: \")\n",
    "    \n",
    "s = int(input(\"Where to start: \"))\n",
    "e = int(input(\"Where to end: \"))\n",
    "\n",
    "if choice == \"even\":\n",
    "    for i in range(s,e+1):        \n",
    "        if i % 2 == 0:\n",
    "            count = count + 1\n",
    "    print(\"Even numbers between {} and {} are {} \".format(s,e,count))\n",
    "\n",
    "else:\n",
    "    for i in range(s,e+1):\n",
    "        if i % 2 != 0:\n",
    "            count = count + 1\n",
    "    print(\"Odd numbers between {} and {} are {} \".format(s,e,count))\n",
    "        "
   ]
  },
  {
   "cell_type": "code",
   "execution_count": 3,
   "id": "584300c1-4e79-4d22-8a7b-02a3f7874ac1",
   "metadata": {},
   "outputs": [
    {
     "name": "stdout",
     "output_type": "stream",
     "text": [
      " 1\n",
      " 2\n",
      " 3\n",
      " 5\n",
      " 7\n",
      "11\n",
      "13\n",
      "17\n",
      "19\n",
      "23\n",
      "29\n",
      "31\n",
      "37\n",
      "41\n",
      "43\n",
      "47\n",
      "53\n",
      "59\n",
      "61\n",
      "67\n",
      "71\n",
      "73\n",
      "79\n",
      "83\n",
      "89\n",
      "97\n"
     ]
    }
   ],
   "source": [
    "for i in range (1,101):\n",
    "    for j in range(2,i): #range starts from the first prime n.o to i\n",
    "        if i % j == 0:\n",
    "            break   # when there is no remainder after dividing i and j the loop ends\n",
    "    else:\n",
    "        print(\"{:2d}\".format(i))"
   ]
  },
  {
   "cell_type": "code",
   "execution_count": 49,
   "id": "92b21f2e-5719-4e6a-8704-a1bc60d3cf6b",
   "metadata": {},
   "outputs": [
    {
     "name": "stdout",
     "output_type": "stream",
     "text": [
      "wuwuue fejfurb\n",
      "wuwuue lsllala\n",
      "wuwuue mamaimi\n",
      "wuwuue sisijsaa\n",
      "uduebed fejfurb\n",
      "uduebed lsllala\n",
      "uduebed mamaimi\n",
      "uduebed sisijsaa\n",
      "eieeudnu fejfurb\n",
      "eieeudnu lsllala\n",
      "eieeudnu mamaimi\n",
      "eieeudnu sisijsaa\n",
      "ehdehws fejfurb\n",
      "ehdehws lsllala\n",
      "ehdehws mamaimi\n",
      "ehdehws sisijsaa\n"
     ]
    }
   ],
   "source": [
    "one = [\"wuwuue\", \"uduebed\", \"eieeudnu\", \"ehdehws\"]\n",
    "two = [\"fejfurb\", \"lsllala\", \"mamaimi\", \"sisijsaa\"]\n",
    "for i in one:\n",
    "    for t in two:\n",
    "        print(i,t)"
   ]
  },
  {
   "cell_type": "code",
   "execution_count": 73,
   "id": "a4dfbf5d-2df5-4d7b-872f-b4f24d1191f5",
   "metadata": {},
   "outputs": [
    {
     "name": "stdout",
     "output_type": "stream",
     "text": [
      "1.5\n",
      "2.0\n",
      "1.3333333333333333\n"
     ]
    }
   ],
   "source": [
    "for i in range(1,5):\n",
    "    for t in range(2,i):\n",
    "        r = i / t\n",
    "        print(r)"
   ]
  },
  {
   "cell_type": "code",
   "execution_count": 72,
   "id": "bac9b9c1-f377-4b7c-b821-1eb5c0d979b3",
   "metadata": {},
   "outputs": [
    {
     "name": "stdout",
     "output_type": "stream",
     "text": [
      "3 2\n",
      "4 2\n",
      "4 3\n"
     ]
    }
   ],
   "source": [
    "for i in range(1,5):\n",
    "    for t in range(2,i):\n",
    "        print(i,t)"
   ]
  },
  {
   "cell_type": "code",
   "execution_count": 6,
   "id": "ceae18b2-9240-4946-9d31-e83467d9092c",
   "metadata": {},
   "outputs": [
    {
     "name": "stdin",
     "output_type": "stream",
     "text": [
      "Even or Odd?  evven\n",
      "Please choose again >>> Even or Odd:  even\n",
      "from series or range?  serries\n",
      "series or range?  series\n"
     ]
    },
    {
     "name": "stdout",
     "output_type": "stream",
     "text": [
      "[75, 33, 28, 4, 90, 51, 66, 12]\n",
      "even numbers are  5\n"
     ]
    }
   ],
   "source": [
    "choice = input(\"Even or Odd? \").lower()\n",
    "count = 0\n",
    "\n",
    "\n",
    "while choice != \"even\" and choice != \"odd\":\n",
    "    choice = input(\"Please choose again >>> Even or Odd: \")\n",
    "    \n",
    "f = input(\"from series or range? \").lower()\n",
    "\n",
    "while f != \"series\" and f != \"range\":\n",
    "    f = input(\"series or range? \")\n",
    "    \n",
    "    \n",
    "if f == \"range\":    \n",
    "    s = int(input(\"Where to start: \"))\n",
    "    e = int(input(\"Where to end: \"))\n",
    "\n",
    "    if choice == \"even\":\n",
    "        for i in range(s,e+1):        \n",
    "            if i % 2 == 0:\n",
    "                count = count + 1\n",
    "        print(\"Even numbers between {} and {} are {} \".format(s,e,count))\n",
    "\n",
    "    else:\n",
    "        for i in range(s,e+1):\n",
    "            if i % 2 != 0:\n",
    "                count = count + 1\n",
    "        print(\"Odd numbers between {} and {} are {} \".format(s,e,count))\n",
    "        \n",
    "\n",
    "else:\n",
    "    l = [75, 33, 28, 4, 90, 51, 66, 12, ]\n",
    "    print(l)\n",
    "    \n",
    "    if choice == \"even\":\n",
    "        for h in l:\n",
    "            if h % 2 == 0:\n",
    "                count += 1\n",
    "        print(\"even numbers are \",count)\n",
    "\n",
    "    else:\n",
    "        for h in l:\n",
    "            if h % 2 != 0:\n",
    "                count += 1\n",
    "        print(\"Odd numbers are \",count)\n",
    "    \n",
    "                "
   ]
  },
  {
   "cell_type": "code",
   "execution_count": 57,
   "id": "9427f10f-d1db-42b5-b88d-0ab86baaee79",
   "metadata": {},
   "outputs": [
    {
     "name": "stdin",
     "output_type": "stream",
     "text": [
      "Enter the end value:  10\n"
     ]
    },
    {
     "name": "stdout",
     "output_type": "stream",
     "text": [
      "[2, 3, 5, 7]\n",
      "The first element on the list is  2\n"
     ]
    }
   ],
   "source": [
    "# Create a prime list that has prime numbers between  2-10.\n",
    "#Then use indexing to the first element of the list and print.\n",
    "prime_list = []\n",
    "e = int(input(\"Enter the end value: \")) + 1\n",
    "for i in range(2,e):\n",
    "    for j in range(2,i):\n",
    "        if i % j == 0:\n",
    "            break\n",
    "    else:        \n",
    "        prime_list.append(i)\n",
    "print(prime_list)\n",
    "print(\"The first element on the list is \",prime_list[0])\n"
   ]
  },
  {
   "cell_type": "code",
   "execution_count": 59,
   "id": "301b7a1b-2877-42d0-8388-1b120517b718",
   "metadata": {},
   "outputs": [
    {
     "name": "stdin",
     "output_type": "stream",
     "text": [
      "Enter the end value:  10\n"
     ]
    },
    {
     "name": "stdout",
     "output_type": "stream",
     "text": [
      "Before addition:  [2, 3, 5, 7]\n",
      "After addition:  [2, 3, 5, 7, 11]\n"
     ]
    }
   ],
   "source": [
    "# create prime number list  between 1-10  as its elements.\n",
    "#Then, use append method to add 11. Print the results before and after additon. \n",
    "prime_list = []\n",
    "e = int(input(\"Enter the end value: \")) + 1\n",
    "for i in range(2,e):\n",
    "    for j in range(2,i):\n",
    "        if i % j == 0:\n",
    "            break\n",
    "    else:\n",
    "        prime_list.append(i)\n",
    "print(\"Before addition: \",prime_list)\n",
    "prime_list.append(11)\n",
    "print(\"After addition: \",prime_list)\n",
    "        "
   ]
  },
  {
   "cell_type": "code",
   "execution_count": 60,
   "id": "fd76d9bf-6e26-42d0-a122-d8d1df026fcc",
   "metadata": {},
   "outputs": [
    {
     "name": "stdout",
     "output_type": "stream",
     "text": [
      "3 x 2 = 6\n",
      "3 x 3 = 9\n",
      "3 x 4 = 12\n",
      "3 x 5 = 15\n",
      "3 x 6 = 18\n",
      "5 x 2 = 10\n",
      "5 x 3 = 15\n",
      "5 x 4 = 20\n",
      "5 x 5 = 25\n",
      "5 x 6 = 30\n",
      "7 x 2 = 14\n",
      "7 x 3 = 21\n",
      "7 x 4 = 28\n",
      "7 x 5 = 35\n",
      "7 x 6 = 42\n"
     ]
    }
   ],
   "source": [
    "# For the list1 and list2, use the nested loop to multiply each element of list1 and list2\n",
    "#and then print the result eith the element multiplication result\n",
    "list1 = [3, 5, 7]\n",
    "list2 = [2, 3, 4, 5, 6]\n",
    "for i in list1:\n",
    "    for j in list2:\n",
    "        print(\"{} x {} = {}\".format(i,j,i*j))"
   ]
  },
  {
   "cell_type": "code",
   "execution_count": null,
   "id": "f7152632-885c-4813-af2a-68f7b386379e",
   "metadata": {},
   "outputs": [],
   "source": []
  }
 ],
 "metadata": {
  "kernelspec": {
   "display_name": "Python 3 (ipykernel)",
   "language": "python",
   "name": "python3"
  },
  "language_info": {
   "codemirror_mode": {
    "name": "ipython",
    "version": 3
   },
   "file_extension": ".py",
   "mimetype": "text/x-python",
   "name": "python",
   "nbconvert_exporter": "python",
   "pygments_lexer": "ipython3",
   "version": "3.11.7"
  }
 },
 "nbformat": 4,
 "nbformat_minor": 5
}
