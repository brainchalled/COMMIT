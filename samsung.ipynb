{
 "cells": [
  {
   "cell_type": "code",
   "execution_count": 4,
   "id": "2fc858ec-5732-4b54-8f08-2bec697fd3c1",
   "metadata": {},
   "outputs": [
    {
     "name": "stdout",
     "output_type": "stream",
     "text": [
      "sorry, you lose.\n"
     ]
    }
   ],
   "source": [
    "width = 0\n",
    "height = 0\n",
    "color = \"red\"\n",
    "emphasis = \"strong\"\n",
    "\n",
    "if width == 0 and height == 0 and color == 'red' and emphasis == 'strong' or highlight > 100:\n",
    "    print ('sorry, you lose.')"
   ]
  },
  {
   "cell_type": "code",
   "execution_count": 6,
   "id": "24322ffe-81bf-4905-9e58-6ac03e957e31",
   "metadata": {},
   "outputs": [
    {
     "name": "stdout",
     "output_type": "stream",
     "text": [
      "Hello\n"
     ]
    }
   ],
   "source": [
    "print('Hello')"
   ]
  },
  {
   "cell_type": "code",
   "execution_count": 8,
   "id": "3f2c1797-b866-4cf4-b4a6-c4fc423f10fa",
   "metadata": {},
   "outputs": [
    {
     "name": "stdin",
     "output_type": "stream",
     "text": [
      "input an integer:  2\n"
     ]
    }
   ],
   "source": [
    "num = int(input('input an integer: '))"
   ]
  },
  {
   "cell_type": "code",
   "execution_count": 16,
   "id": "c496a38d-ace6-4ce8-92b1-1576ba63ef84",
   "metadata": {},
   "outputs": [
    {
     "name": "stdin",
     "output_type": "stream",
     "text": [
      "Enter the radius:  4\n"
     ]
    },
    {
     "name": "stdout",
     "output_type": "stream",
     "text": [
      "radius of the circle 4.0\n",
      "area of the circle  50.24\n",
      "circumference of the circle 25.12\n"
     ]
    }
   ],
   "source": [
    "PI = 3.14\n",
    "radius = float(input(\"Enter the radius: \"))\n",
    "circum = PI * radius * radius\n",
    "area = 2.0 * PI * radius\n",
    "\n",
    "print(\"radius of the circle\" , radius)\n",
    "print(\"area of the circle \", circum)\n",
    "print(\"circumference of the circle\" , area)\n",
    "\n",
    "    "
   ]
  },
  {
   "cell_type": "code",
   "execution_count": 21,
   "id": "f79762e8-254b-4d68-aba2-56f645023869",
   "metadata": {},
   "outputs": [
    {
     "data": {
      "text/plain": [
       "int"
      ]
     },
     "execution_count": 21,
     "metadata": {},
     "output_type": "execute_result"
    }
   ],
   "source": [
    "type(100)\n",
    "\n",
    "\n"
   ]
  },
  {
   "cell_type": "code",
   "execution_count": 22,
   "id": "1879498f-1fc2-4406-9e55-5d0d8529dcf1",
   "metadata": {},
   "outputs": [
    {
     "data": {
      "text/plain": [
       "float"
      ]
     },
     "execution_count": 22,
     "metadata": {},
     "output_type": "execute_result"
    }
   ],
   "source": [
    "type(100.0)"
   ]
  },
  {
   "cell_type": "code",
   "execution_count": null,
   "id": "62428007-ade1-43dc-9cd4-f4f224a78a96",
   "metadata": {},
   "outputs": [],
   "source": []
  },
  {
   "cell_type": "code",
   "execution_count": 25,
   "id": "1cd3d0c0-7549-4dd1-9eac-00b881d67e78",
   "metadata": {},
   "outputs": [
    {
     "data": {
      "text/plain": [
       "str"
      ]
     },
     "execution_count": 25,
     "metadata": {},
     "output_type": "execute_result"
    }
   ],
   "source": [
    "type(\"100\")"
   ]
  },
  {
   "cell_type": "code",
   "execution_count": 26,
   "id": "cdf3f4a7-3c63-4d49-b18a-8d51d8e4210c",
   "metadata": {},
   "outputs": [
    {
     "data": {
      "text/plain": [
       "complex"
      ]
     },
     "execution_count": 26,
     "metadata": {},
     "output_type": "execute_result"
    }
   ],
   "source": [
    "type(10 + 3j)"
   ]
  },
  {
   "cell_type": "code",
   "execution_count": 9,
   "id": "d4d1a066-8f0d-4a5a-a2d9-fc0a84165bd9",
   "metadata": {},
   "outputs": [
    {
     "data": {
      "text/plain": [
       "complex"
      ]
     },
     "execution_count": 9,
     "metadata": {},
     "output_type": "execute_result"
    }
   ],
   "source": [
    "type(10 + 3 )"
   ]
  },
  {
   "cell_type": "code",
   "execution_count": 32,
   "id": "f6af1b93-e4cb-44b9-97e2-a0f724e48b71",
   "metadata": {},
   "outputs": [
    {
     "name": "stdout",
     "output_type": "stream",
     "text": [
      "('my hello world', 10)\n"
     ]
    }
   ],
   "source": [
    "python = (\"my hello world\", + 10)\n",
    "print(python)"
   ]
  },
  {
   "cell_type": "code",
   "execution_count": 3,
   "id": "595085fe-6a25-4b38-aa28-a70a6fe30f4a",
   "metadata": {},
   "outputs": [
    {
     "data": {
      "text/plain": [
       "1"
      ]
     },
     "execution_count": 3,
     "metadata": {},
     "output_type": "execute_result"
    }
   ],
   "source": [
    "5 // 3"
   ]
  },
  {
   "cell_type": "code",
   "execution_count": 4,
   "id": "eef5ace5-68d8-4382-8c33-50a4332c8283",
   "metadata": {},
   "outputs": [
    {
     "data": {
      "text/plain": [
       "1000"
      ]
     },
     "execution_count": 4,
     "metadata": {},
     "output_type": "execute_result"
    }
   ],
   "source": [
    "10**3"
   ]
  },
  {
   "cell_type": "code",
   "execution_count": 5,
   "id": "c04a985e-acb7-4f70-9d84-6b7336e4e832",
   "metadata": {},
   "outputs": [
    {
     "data": {
      "text/plain": [
       "4"
      ]
     },
     "execution_count": 5,
     "metadata": {},
     "output_type": "execute_result"
    }
   ],
   "source": [
    "9 % 5\n"
   ]
  },
  {
   "cell_type": "code",
   "execution_count": 6,
   "id": "02ad7eee-6f3e-42bc-b2ca-ba4dd221f684",
   "metadata": {},
   "outputs": [
    {
     "data": {
      "text/plain": [
       "(7+26j)"
      ]
     },
     "execution_count": 6,
     "metadata": {},
     "output_type": "execute_result"
    }
   ],
   "source": [
    "(3 + 4j) * (5 + 2j)"
   ]
  },
  {
   "cell_type": "code",
   "execution_count": 7,
   "id": "21719d0f-7358-42d9-82f9-d9eb07611bce",
   "metadata": {},
   "outputs": [
    {
     "data": {
      "text/plain": [
       "(0.793103448275862+0.48275862068965514j)"
      ]
     },
     "execution_count": 7,
     "metadata": {},
     "output_type": "execute_result"
    }
   ],
   "source": [
    "(3 + 4j) / (5 + 2j)"
   ]
  },
  {
   "cell_type": "code",
   "execution_count": 9,
   "id": "92662f43-41de-4dd7-b279-e764dcadcc56",
   "metadata": {},
   "outputs": [
    {
     "name": "stdout",
     "output_type": "stream",
     "text": [
      "hello world\n"
     ]
    }
   ],
   "source": [
    "print(\"hello\" + \" world\")"
   ]
  },
  {
   "cell_type": "code",
   "execution_count": 18,
   "id": "adc9382a-1455-4034-b798-87ed57fd7a9b",
   "metadata": {},
   "outputs": [
    {
     "name": "stdout",
     "output_type": "stream",
     "text": [
      "\"double quotation marks\"\n"
     ]
    }
   ],
   "source": [
    "print(\"\\\"double quotation marks\\\"\")"
   ]
  },
  {
   "cell_type": "code",
   "execution_count": 16,
   "id": "9f3ffdbb-c00f-4120-b249-bf1b71d1da85",
   "metadata": {},
   "outputs": [
    {
     "name": "stdout",
     "output_type": "stream",
     "text": [
      "'single quotation marks'\n"
     ]
    }
   ],
   "source": [
    "print(\"\\'single quotation marks\\'\")\n"
   ]
  },
  {
   "cell_type": "code",
   "execution_count": 19,
   "id": "1f2c3611-e798-4a4c-b60a-2e17f1985738",
   "metadata": {},
   "outputs": [
    {
     "name": "stdout",
     "output_type": "stream",
     "text": [
      "line\n",
      "break\n"
     ]
    }
   ],
   "source": [
    "print(\"line\\nbreak\")"
   ]
  },
  {
   "cell_type": "code",
   "execution_count": 24,
   "id": "433a2fed-80e8-4b3d-9d0f-38e25d859387",
   "metadata": {},
   "outputs": [
    {
     "name": "stdout",
     "output_type": "stream",
     "text": [
      "python keyword list...\n",
      "['False', 'None', 'True', 'and', 'as', 'assert', 'async', 'await', 'break', 'class', 'continue', 'def', 'del', 'elif', 'else', 'except', 'finally', 'for', 'from', 'global', 'if', 'import', 'in', 'is', 'lambda', 'nonlocal', 'not', 'or', 'pass', 'raise', 'return', 'try', 'while', 'with', 'yield']\n"
     ]
    }
   ],
   "source": [
    "import keyword\n",
    "\n",
    "# search for python keywords\n",
    "print(\"python keyword list...\")\n",
    "print(keyword.kwlist)"
   ]
  },
  {
   "cell_type": "code",
   "execution_count": 25,
   "id": "bee37b1b-bc98-4972-8d34-3396bf6d1f57",
   "metadata": {},
   "outputs": [
    {
     "name": "stdout",
     "output_type": "stream",
     "text": [
      "<class 'int'>\n",
      "<class 'float'>\n",
      "<class 'str'>\n"
     ]
    }
   ],
   "source": [
    "num = 85\n",
    "print(type(num))\n",
    "\n",
    "p1 = 3.14159\n",
    "print(type(p1))\n",
    "\n",
    "message = \"Good morning\"\n",
    "print(type(message))"
   ]
  },
  {
   "cell_type": "code",
   "execution_count": 1,
   "id": "e59e1725-73fc-45f1-b37b-e4a112f2e82a",
   "metadata": {},
   "outputs": [
    {
     "name": "stdout",
     "output_type": "stream",
     "text": [
      "\n",
      "*\n",
      "**\n",
      "***\n",
      "****\n"
     ]
    }
   ],
   "source": [
    "n = 4\n",
    "print('\\n' .join('*'* i for i in range(0,n+1)))"
   ]
  },
  {
   "cell_type": "code",
   "execution_count": 56,
   "id": "3db8ea6b-d9d2-4fb4-a42f-3c30b4f925c4",
   "metadata": {},
   "outputs": [
    {
     "name": "stdout",
     "output_type": "stream",
     "text": [
      "    *\n",
      "   ** \n",
      "  *** \n",
      " ****\n"
     ]
    }
   ],
   "source": [
    "print(\"    *\\n   ** \\n  *** \\n ****\")"
   ]
  },
  {
   "cell_type": "code",
   "execution_count": 22,
   "id": "2835d1a2-ca72-4a1b-b335-a7bc44683469",
   "metadata": {},
   "outputs": [
    {
     "name": "stdin",
     "output_type": "stream",
     "text": [
      "Enter an integer:  21\n"
     ]
    },
    {
     "name": "stdout",
     "output_type": "stream",
     "text": [
      "Is the integer odd: True\n"
     ]
    }
   ],
   "source": [
    "n = int(input(\"Enter an integer: \"))\n",
    "if n / 2 == 0:\n",
    "    print(\"Is the integer odd: False\")\n",
    "else:\n",
    "    print(\"Is the integer odd: True\")\n",
    "    "
   ]
  },
  {
   "cell_type": "code",
   "execution_count": 32,
   "id": "644fe80f-8615-4d51-a473-0ae45eb2e4b4",
   "metadata": {},
   "outputs": [
    {
     "name": "stdin",
     "output_type": "stream",
     "text": [
      "Enter an integer:  20\n"
     ]
    },
    {
     "name": "stdout",
     "output_type": "stream",
     "text": [
      "False\n"
     ]
    }
   ],
   "source": [
    "n =int(input(\"Enter an integer: \"))\n",
    "result = n %2 != 0\n",
    "print(result)"
   ]
  },
  {
   "cell_type": "code",
   "execution_count": 63,
   "id": "d80e6798-078e-48e7-9bb7-59d2ad9a2f23",
   "metadata": {},
   "outputs": [
    {
     "name": "stdin",
     "output_type": "stream",
     "text": [
      "enter year:  2006\n"
     ]
    },
    {
     "name": "stdout",
     "output_type": "stream",
     "text": [
      "Ain't a leap year\n"
     ]
    }
   ],
   "source": [
    "year = int(input(\"enter year: \"))\n",
    "result = str(year %4 == 0)\n",
    "if result == \"True\":\n",
    "    print(\"leap year baiby!\")\n",
    "else:    \n",
    "     print(\"Ain't a leap year\")"
   ]
  },
  {
   "cell_type": "code",
   "execution_count": 12,
   "id": "e48d00d7-2fed-45d4-b21b-75737a61546b",
   "metadata": {},
   "outputs": [
    {
     "name": "stdin",
     "output_type": "stream",
     "text": [
      "enter radius:  11\n"
     ]
    },
    {
     "name": "stdout",
     "output_type": "stream",
     "text": [
      "69.115024\n",
      "380.132632\n"
     ]
    }
   ],
   "source": [
    "p1 = 3.141592\n",
    "r = int(input(\"enter radius: \"))\n",
    "circum = 2 * r * p1 \n",
    "area = p1 * r**2\n",
    "print (circum)\n",
    "print(area)\n",
    "        "
   ]
  },
  {
   "cell_type": "code",
   "execution_count": 9,
   "id": "306abdb9-5db0-4124-b860-05447f2c3aaa",
   "metadata": {},
   "outputs": [
    {
     "name": "stdin",
     "output_type": "stream",
     "text": [
      "enter integer:  12\n"
     ]
    },
    {
     "name": "stdout",
     "output_type": "stream",
     "text": [
      "True\n"
     ]
    }
   ],
   "source": [
    "n = int(input(\"enter integer: \"))\n",
    "result = n % 2 == 0 and n > 0 <= 100 \n",
    "print(result)\n",
    "        "
   ]
  },
  {
   "cell_type": "code",
   "execution_count": 11,
   "id": "4b736ba3-da5d-44bd-8c29-c1b34945e6f0",
   "metadata": {},
   "outputs": [
    {
     "name": "stdout",
     "output_type": "stream",
     "text": [
      "True\n",
      "True\n",
      "False\n"
     ]
    }
   ],
   "source": [
    "print('aaa' in 'aaa-bbb-ccc')\n",
    "print('bbb' in 'aaa-bbb-ccc')\n",
    "print('ddd' in 'aaa-bbb-ccc')"
   ]
  },
  {
   "cell_type": "code",
   "execution_count": 14,
   "id": "66ad3b1b-00cd-4747-b9f7-4813ef577a44",
   "metadata": {},
   "outputs": [
    {
     "name": "stdin",
     "output_type": "stream",
     "text": [
      "Enter age:  18\n"
     ]
    },
    {
     "name": "stdout",
     "output_type": "stream",
     "text": [
      "Youth discount\n",
      "Welccome\n"
     ]
    }
   ],
   "source": [
    "age = int(input(\"Enter age: \"))\n",
    "if age <20:\n",
    "          print(\"Youth discount\")\n",
    "print(\"Welccome\")          \n",
    "          "
   ]
  },
  {
   "cell_type": "code",
   "execution_count": 16,
   "id": "a0ab91e6-5e1e-4a71-a208-a0d8aa7f737f",
   "metadata": {},
   "outputs": [
    {
     "name": "stdin",
     "output_type": "stream",
     "text": [
      "enter three integers divided by space:  10 20 30\n"
     ]
    },
    {
     "name": "stdout",
     "output_type": "stream",
     "text": [
      "input:  10 20 30\n",
      "input seperated by split() method:  ['10', '20', '30']\n"
     ]
    }
   ],
   "source": [
    "str1 = input(\"enter three integers divided by space: \")\n",
    "print(\"input: \",str1)\n",
    "print(\"input seperated by split() method: \", str1.split())"
   ]
  },
  {
   "cell_type": "code",
   "execution_count": 55,
   "id": "2f422665-47f8-4850-8161-694851382baf",
   "metadata": {},
   "outputs": [
    {
     "name": "stdin",
     "output_type": "stream",
     "text": [
      "Enter the age:  13\n"
     ]
    },
    {
     "name": "stdout",
     "output_type": "stream",
     "text": [
      "Youth\n"
     ]
    }
   ],
   "source": [
    "age = int(input(\"Enter the age: \"))\n",
    "if age >= 20:\n",
    "          print(\"Adult\")\n",
    "if age >= 10 and age  < 20: \n",
    "            print(\"Youth\")\n",
    "if age < 10:\n",
    "             print(\"Kid\")"
   ]
  },
  {
   "cell_type": "code",
   "execution_count": 75,
   "id": "990ca7a1-45cb-48dc-b7cd-be85712e30f6",
   "metadata": {},
   "outputs": [
    {
     "name": "stdin",
     "output_type": "stream",
     "text": [
      "Enter an integer between -100 and 100:  899\n"
     ]
    }
   ],
   "source": [
    "\n",
    "x = int(input(\"Enter an integer between -100 and 100: \"))\n",
    "if 0 <x<= 100 :\n",
    "        print(x,\"is a natural number\")\n",
    "if -100 <=x< 0:\n",
    "    print(\"x =\",x)"
   ]
  },
  {
   "cell_type": "code",
   "execution_count": 80,
   "id": "012aba67-71d0-4393-b756-137ac2b741ea",
   "metadata": {},
   "outputs": [
    {
     "name": "stdin",
     "output_type": "stream",
     "text": [
      "which side will you attack?(left,middle,right): middle\n"
     ]
    },
    {
     "name": "stdout",
     "output_type": "stream",
     "text": [
      "congtrats!! Offense succeeded.\n",
      "computer defense position: right\n"
     ]
    }
   ],
   "source": [
    "import random\n",
    "\n",
    "n = random.randint(1,3) #randomly generates numbers among 1,2,3\n",
    "if n == 1:\n",
    "    computer_choice =\"left\"\n",
    "elif n == 2:\n",
    "    computer_choice =\"middle\"\n",
    "else:\n",
    "    computer_choice = \"right\"\n",
    "\n",
    "user_choice = input(\"which side will you attack?(left,middle,right):\" )\n",
    "if computer_choice == user_choice:\n",
    "    print(\"offense failed\")\n",
    "else:\n",
    "    print(\"congtrats!! Offense succeeded.\")\n",
    "print(\"computer defense position:\",computer_choice)"
   ]
  },
  {
   "cell_type": "code",
   "execution_count": 100,
   "id": "18970cc1-3694-431d-bdab-83a0e2c77986",
   "metadata": {},
   "outputs": [
    {
     "name": "stdin",
     "output_type": "stream",
     "text": [
      "enter the time in hours: 1300\n"
     ]
    },
    {
     "name": "stdout",
     "output_type": "stream",
     "text": [
      "good afternoon\n"
     ]
    }
   ],
   "source": [
    "t = int(input(\"enter the time in hours:\"))\n",
    "if  t < 1200:\n",
    "            print(\"good morning\")\n",
    "elif t <= 1500:\n",
    "              print(\"good afternoon\")\n",
    "elif t <= 1800:\n",
    "                print(\"good evening\")\n",
    "elif t <= 2400:\n",
    "                print(\"good night\")\n",
    "else:  \n",
    "    print(\"out of time\")\n",
    "    \n",
    "    \n",
    "                   \n",
    "            "
   ]
  },
  {
   "cell_type": "code",
   "execution_count": 130,
   "id": "e4747fcb-14e1-4479-b487-4811b5520d5a",
   "metadata": {},
   "outputs": [
    {
     "name": "stdout",
     "output_type": "stream",
     "text": [
      ">>SELECT<<The fruit types are:\n",
      " 1.Apples\n",
      " 2.Grapes\n",
      " 3.Melon\n",
      " 4.Oranges.\n"
     ]
    },
    {
     "name": "stdin",
     "output_type": "stream",
     "text": [
      ">>>>PLEASE ENTER THE FRUIT NUMBER ONLY<<<<(1,2,3 or 4):  3\n"
     ]
    },
    {
     "name": "stdout",
     "output_type": "stream",
     "text": [
      "fruit selected:  melon\n",
      "price: 8000\n"
     ]
    },
    {
     "name": "stdin",
     "output_type": "stream",
     "text": [
      "How many melons are you taking?  4\n"
     ]
    },
    {
     "name": "stdout",
     "output_type": "stream",
     "text": [
      "quantity:  4\n",
      "total price is 32000 won.\n"
     ]
    },
    {
     "name": "stdin",
     "output_type": "stream",
     "text": [
      "insert money please(ex: 15000) >>> 35000\n"
     ]
    },
    {
     "name": "stdout",
     "output_type": "stream",
     "text": [
      "35000 won received. Your change is 3000 won.\n"
     ]
    }
   ],
   "source": [
    "print(\">>SELECT<<The fruit types are:\\n 1.Apples\\n 2.Grapes\\n 3.Melon\\n 4.Oranges.\")\n",
    "order = int(input(\">>>>PLEASE ENTER THE FRUIT NUMBER ONLY<<<<(1,2,3 or 4): \"))\n",
    "\n",
    "if order == 1:\n",
    "    fruit = \"apple\"\n",
    "    price = 5000\n",
    "elif order == 2:\n",
    "    fruit = \"grape\"\n",
    "    price = 6000\n",
    "elif order == 3:\n",
    "    fruit = \"melon\"\n",
    "    price = 8000\n",
    "elif order == 4:\n",
    "    fruit = \"orange\"\n",
    "    price = 2000\n",
    "else:\n",
    "    print(\"your selection is not available at the moment\")\n",
    "    end\n",
    "\n",
    "print(\"fruit selected: \",fruit)\n",
    "print(\"price:\", price)\n",
    "4\n",
    "count = int(input(\"How many \" + str(fruit) +\"s are you taking? \"))\n",
    "\n",
    "print(\"quantity: \",count)\n",
    "print(\"total price is\", price* count,\"won.\")\n",
    "\n",
    "money = int(input(\"insert money please(ex: 15000) >>>\"))\n",
    "if money < price *count:\n",
    "    print(\"not enough money!\")\n",
    "else:\n",
    "    change = money - price * count\n",
    "    print(money,\"won received. Your change is\",change, \"won.\")"
   ]
  },
  {
   "cell_type": "code",
   "execution_count": 198,
   "id": "552d9b14-84e2-4aa2-9889-76257700d250",
   "metadata": {},
   "outputs": [
    {
     "name": "stdout",
     "output_type": "stream",
     "text": [
      ">>SELECT<<The fruit types are:\n",
      " 1.Apple\n",
      " 2.Grape\n",
      " 3.Melon\n",
      " 4.Orange.\n"
     ]
    },
    {
     "name": "stdin",
     "output_type": "stream",
     "text": [
      ">>>>PLEASE ENTER THE FRUIT NAME ONLY<<<<:  melon\n"
     ]
    },
    {
     "name": "stdout",
     "output_type": "stream",
     "text": [
      "fruit selected:  melon\n",
      "price: 8000\n"
     ]
    },
    {
     "name": "stdin",
     "output_type": "stream",
     "text": [
      "How many melons are you taking?  3\n"
     ]
    },
    {
     "name": "stdout",
     "output_type": "stream",
     "text": [
      "Quantity:  3\n",
      "Total price is 24000 won.\n"
     ]
    },
    {
     "name": "stdin",
     "output_type": "stream",
     "text": [
      "Insert money please(ex: 15000) >>> 24000\n"
     ]
    },
    {
     "name": "stdout",
     "output_type": "stream",
     "text": [
      "24000 won received. Your change is 0 won.\n"
     ]
    }
   ],
   "source": [
    "print(\">>SELECT<<The fruit types are:\\n 1.Apple\\n 2.Grape\\n 3.Melon\\n 4.Orange.\")\n",
    "fruit = input(\">>>>PLEASE ENTER THE FRUIT NAME ONLY<<<<: \")\n",
    "\n",
    "if fruit == \"apple\":\n",
    "    price = 5000\n",
    "elif fruit == \"grape\":\n",
    "    price = 6000\n",
    "elif fruit == \"melon\":\n",
    "    price = 8000\n",
    "elif fruit == \"orange\":\n",
    "    price = 2000\n",
    "else:\n",
    "    print(\"Your selection is not available at the moment\")\n",
    "    \n",
    "\n",
    "print(\"fruit selected: \",fruit)\n",
    "print(\"price:\", price)\n",
    "\n",
    "count = int(input(\"How many \" + str(fruit) +\"s are you taking? \"))\n",
    "\n",
    "print(\"Quantity: \",count)\n",
    "print(\"Total price is\", price* count,\"won.\")\n",
    "\n",
    "money = int(input(\"Insert money please(ex: 15000) >>>\"))\n",
    "if money < price *count:\n",
    "    print(\"Not enough money!\")\n",
    "else:\n",
    "    change = money - price * count\n",
    "    print(money,\"won received. Your change is\",change, \"won.\")"
   ]
  },
  {
   "cell_type": "code",
   "execution_count": 245,
   "id": "9c476d1e-1f8f-42d7-82b8-9af8bb381343",
   "metadata": {},
   "outputs": [
    {
     "name": "stdin",
     "output_type": "stream",
     "text": [
      "Enter ID:  i lovepython\n",
      "Enter password:  my pass1234\n"
     ]
    },
    {
     "name": "stdout",
     "output_type": "stream",
     "text": [
      "Welcome!\n"
     ]
    }
   ],
   "source": [
    "my_id = \"i lovepython\"\n",
    "password = \"my pass1234\"\n",
    "string1 = input(\"Enter ID: \")\n",
    "string2 = input(\"Enter password: \")\n",
    "if string1 == my_id and string2 == password:\n",
    "    print(\"Welcome!\")   \n",
    "elif string1 != my_id:\n",
    "    print(\"ID not found.\")\n",
    "else:\n",
    "    print(\"The password is wrong.\")"
   ]
  },
  {
   "cell_type": "code",
   "execution_count": 48,
   "id": "768cf642-84fd-4539-9c1c-4efec2f81e9d",
   "metadata": {},
   "outputs": [
    {
     "name": "stdin",
     "output_type": "stream",
     "text": [
      " 1)Addition 2)subraction 3)Multiplication 4)Division:\n",
      "Enter operation number 5\n"
     ]
    },
    {
     "name": "stdout",
     "output_type": "stream",
     "text": [
      "You entered the wrong operation number!\n"
     ]
    }
   ],
   "source": [
    "x = int(input(\" 1)Addition 2)subraction 3)Multiplication 4)Division:\\nEnter operation number\"))\n",
    "if x in range (1,5):\n",
    "    first_num = int(input(\"Enter 1st integer: \"))\n",
    "    sec_num = int(input(\"Enter 2nd integer: \"))\n",
    "    if x == 1:\n",
    "        result = first_num + sec_num\n",
    "        print(first_num, \"+\", sec_num)\n",
    "        print(\"Result = \",result)\n",
    "    elif x == 2:\n",
    "        result = first_num - sec_num\n",
    "        print(first_num, \"-\" ,sec_num)\n",
    "        print(\"Result = \",result)\n",
    "    elif x == 3:\n",
    "        result = first_num * sec_num\n",
    "        print(first_num, \"*\",sec_num)\n",
    "        print(\"Result = \",result)\n",
    "    else:\n",
    "        result = first_num / sec_num\n",
    "        print(first_num, \"/\", sec_num)\n",
    "        print(\"Result = \",result)\n",
    "else:\n",
    "    print(\"You entered the wrong operation number!\")\n",
    " "
   ]
  },
  {
   "cell_type": "code",
   "execution_count": 28,
   "id": "f7ae6f27-9f79-4b7c-b5fe-274bf4d8a872",
   "metadata": {},
   "outputs": [
    {
     "name": "stdout",
     "output_type": "stream",
     "text": [
      "Enter your login details\n"
     ]
    },
    {
     "name": "stdin",
     "output_type": "stream",
     "text": [
      "Enter your username:  tokyo\n",
      "Enter the password:  3456\n"
     ]
    },
    {
     "name": "stdout",
     "output_type": "stream",
     "text": [
      "WELCOME!\n"
     ]
    }
   ],
   "source": [
    "print(\"Enter your login details\")\n",
    "user_name = \"tokyo\"\n",
    "password = \"3456\"\n",
    "un = input(\"Enter your username: \")\n",
    "pa = input(\"Enter the password: \")\n",
    "if un != user_name:\n",
    "    print(\"User not recognized\")\n",
    "elif pa != password:\n",
    "    print(\"Incorrect password,Try again\")\n",
    "else:\n",
    "    print(\"WELCOME!\")\n",
    "    "
   ]
  },
  {
   "cell_type": "code",
   "execution_count": 17,
   "id": "84c45a6d-6303-450f-988d-594b3f55e2c2",
   "metadata": {},
   "outputs": [
    {
     "name": "stdin",
     "output_type": "stream",
     "text": [
      "enter any letter:  A\n"
     ]
    },
    {
     "name": "stdout",
     "output_type": "stream",
     "text": [
      "is a vowel\n"
     ]
    }
   ],
   "source": [
    "letter = input(\"enter any letter: \").lower()\n",
    "if letter == \"a\" or letter == \"e\" or letter == \"i\" or letter == \"o\" or letter == \"u\":\n",
    "    print(\"is a vowel\")\n",
    "else: \n",
    "    print(letter,\"is a consonant\")"
   ]
  },
  {
   "cell_type": "code",
   "execution_count": 14,
   "id": "63670a14-d19c-44fc-94b3-2b50c3bfd4ef",
   "metadata": {},
   "outputs": [
    {
     "name": "stdin",
     "output_type": "stream",
     "text": [
      "Enter integer a:  100\n",
      "Enter integer b:  20\n"
     ]
    },
    {
     "name": "stdout",
     "output_type": "stream",
     "text": [
      "100 is  a mutiple of  20\n"
     ]
    }
   ],
   "source": [
    "integer_a = int(input(\"Enter integer a: \"))\n",
    "integer_b = int(input(\"Enter integer b: \"))\n",
    "if integer_a % integer_b == 0:\n",
    "                print(integer_a,\"is  a mutiple of \",integer_b)\n",
    "else:\n",
    "    print(integer_a,\"is not a mutiple of\" , integer_b)"
   ]
  },
  {
   "cell_type": "code",
   "execution_count": 7,
   "id": "159000c5-41e0-42ab-b79c-de49d555c2dc",
   "metadata": {},
   "outputs": [
    {
     "name": "stdin",
     "output_type": "stream",
     "text": [
      "x coordinate:  4\n",
      "y coordinate:  7\n"
     ]
    },
    {
     "name": "stdout",
     "output_type": "stream",
     "text": [
      "1st quadrant\n"
     ]
    }
   ],
   "source": [
    "x = int(input(\"x coordinate: \")) \n",
    "y = int(input(\"y coordinate: \"))\n",
    "if x > 0 and y > 0:\n",
    "    print(\"1st quadrant\")\n",
    "elif x < 0 and y > 0 :\n",
    "    print(\"2nd quadrant\")\n",
    "elif x < 0 and y < 0:\n",
    "    print(\"3rd quadrant\")\n",
    "elif x > 0 and y < 0 :\n",
    "    print(\"4th quadrant\")\n",
    "else:\n",
    "    print(\"Not recognised!\")"
   ]
  },
  {
   "cell_type": "code",
   "execution_count": 34,
   "id": "9c487ba3-1ba4-4d59-99db-449395b7ff43",
   "metadata": {},
   "outputs": [
    {
     "name": "stdout",
     "output_type": "stream",
     "text": [
      "Here is the menu for yummy restaurant\n"
     ]
    },
    {
     "name": "stdin",
     "output_type": "stream",
     "text": [
      "burger(enter b)\n",
      "Chicken(enter c)\n",
      "Pizza(enter p)\n",
      "Choose a menu(enter b,c,p):  k\n",
      "Please choose the menu again (enter b,c,p):  5\n",
      "Please choose the menu again (enter b,c,p):  c\n"
     ]
    },
    {
     "name": "stdout",
     "output_type": "stream",
     "text": [
      "You chose chicken!\n"
     ]
    }
   ],
   "source": [
    "print(\"Here is the menu for yummy restaurant\")\n",
    "order = input(\"burger(enter b)\\nChicken(enter c)\\nPizza(enter p)\\nChoose a menu(enter b,c,p): \").lower()\n",
    "\n",
    "while order != \"b\" and order != \"c\" and order != \"p\":\n",
    "    order = input(\"Please choose the menu again (enter b,c,p): \").lower() \n",
    "\n",
    "if order == \"b\":\n",
    "    print(\"You chose Burger!\")\n",
    "elif order == \"c\":\n",
    "    print(\"You chose chicken!\")\n",
    "elif order == \"p\":\n",
    "    print(\"You chose pizza!\")\n",
    "else:\n",
    "    print(\"Enter the menu again\")\n",
    "\n",
    "    \n",
    "    "
   ]
  },
  {
   "cell_type": "code",
   "execution_count": 23,
   "id": "49f676c8-3cd2-47ab-bdb4-35ddb331a2e6",
   "metadata": {},
   "outputs": [
    {
     "name": "stdout",
     "output_type": "stream",
     "text": [
      "Possible combinations of David's sandwich shop\n",
      "Rye bread + Meatball + Lettuce + Mayonnaise\n",
      "Rye bread + Meatball + Lettuce + Honey Mustard\n",
      "Rye bread + Meatball + Lettuce + Chili\n",
      "Rye bread + Meatball + Tomato + Mayonnaise\n",
      "Rye bread + Meatball + Tomato + Honey Mustard\n",
      "Rye bread + Meatball + Tomato + Chili\n",
      "Rye bread + Meatball + Cucumber + Mayonnaise\n",
      "Rye bread + Meatball + Cucumber + Honey Mustard\n",
      "Rye bread + Meatball + Cucumber + Chili\n",
      "Rye bread + Sausage + Lettuce + Mayonnaise\n",
      "Rye bread + Sausage + Lettuce + Honey Mustard\n",
      "Rye bread + Sausage + Lettuce + Chili\n",
      "Rye bread + Sausage + Tomato + Mayonnaise\n",
      "Rye bread + Sausage + Tomato + Honey Mustard\n",
      "Rye bread + Sausage + Tomato + Chili\n",
      "Rye bread + Sausage + Cucumber + Mayonnaise\n",
      "Rye bread + Sausage + Cucumber + Honey Mustard\n",
      "Rye bread + Sausage + Cucumber + Chili\n",
      "Rye bread + Chicken breast + Lettuce + Mayonnaise\n",
      "Rye bread + Chicken breast + Lettuce + Honey Mustard\n",
      "Rye bread + Chicken breast + Lettuce + Chili\n",
      "Rye bread + Chicken breast + Tomato + Mayonnaise\n",
      "Rye bread + Chicken breast + Tomato + Honey Mustard\n",
      "Rye bread + Chicken breast + Tomato + Chili\n",
      "Rye bread + Chicken breast + Cucumber + Mayonnaise\n",
      "Rye bread + Chicken breast + Cucumber + Honey Mustard\n",
      "Rye bread + Chicken breast + Cucumber + Chili\n",
      "Wheat + Meatball + Lettuce + Mayonnaise\n",
      "Wheat + Meatball + Lettuce + Honey Mustard\n",
      "Wheat + Meatball + Lettuce + Chili\n",
      "Wheat + Meatball + Tomato + Mayonnaise\n",
      "Wheat + Meatball + Tomato + Honey Mustard\n",
      "Wheat + Meatball + Tomato + Chili\n",
      "Wheat + Meatball + Cucumber + Mayonnaise\n",
      "Wheat + Meatball + Cucumber + Honey Mustard\n",
      "Wheat + Meatball + Cucumber + Chili\n",
      "Wheat + Sausage + Lettuce + Mayonnaise\n",
      "Wheat + Sausage + Lettuce + Honey Mustard\n",
      "Wheat + Sausage + Lettuce + Chili\n",
      "Wheat + Sausage + Tomato + Mayonnaise\n",
      "Wheat + Sausage + Tomato + Honey Mustard\n",
      "Wheat + Sausage + Tomato + Chili\n",
      "Wheat + Sausage + Cucumber + Mayonnaise\n",
      "Wheat + Sausage + Cucumber + Honey Mustard\n",
      "Wheat + Sausage + Cucumber + Chili\n",
      "Wheat + Chicken breast + Lettuce + Mayonnaise\n",
      "Wheat + Chicken breast + Lettuce + Honey Mustard\n",
      "Wheat + Chicken breast + Lettuce + Chili\n",
      "Wheat + Chicken breast + Tomato + Mayonnaise\n",
      "Wheat + Chicken breast + Tomato + Honey Mustard\n",
      "Wheat + Chicken breast + Tomato + Chili\n",
      "Wheat + Chicken breast + Cucumber + Mayonnaise\n",
      "Wheat + Chicken breast + Cucumber + Honey Mustard\n",
      "Wheat + Chicken breast + Cucumber + Chili\n",
      "White + Meatball + Lettuce + Mayonnaise\n",
      "White + Meatball + Lettuce + Honey Mustard\n",
      "White + Meatball + Lettuce + Chili\n",
      "White + Meatball + Tomato + Mayonnaise\n",
      "White + Meatball + Tomato + Honey Mustard\n",
      "White + Meatball + Tomato + Chili\n",
      "White + Meatball + Cucumber + Mayonnaise\n",
      "White + Meatball + Cucumber + Honey Mustard\n",
      "White + Meatball + Cucumber + Chili\n",
      "White + Sausage + Lettuce + Mayonnaise\n",
      "White + Sausage + Lettuce + Honey Mustard\n",
      "White + Sausage + Lettuce + Chili\n",
      "White + Sausage + Tomato + Mayonnaise\n",
      "White + Sausage + Tomato + Honey Mustard\n",
      "White + Sausage + Tomato + Chili\n",
      "White + Sausage + Cucumber + Mayonnaise\n",
      "White + Sausage + Cucumber + Honey Mustard\n",
      "White + Sausage + Cucumber + Chili\n",
      "White + Chicken breast + Lettuce + Mayonnaise\n",
      "White + Chicken breast + Lettuce + Honey Mustard\n",
      "White + Chicken breast + Lettuce + Chili\n",
      "White + Chicken breast + Tomato + Mayonnaise\n",
      "White + Chicken breast + Tomato + Honey Mustard\n",
      "White + Chicken breast + Tomato + Chili\n",
      "White + Chicken breast + Cucumber + Mayonnaise\n",
      "White + Chicken breast + Cucumber + Honey Mustard\n",
      "White + Chicken breast + Cucumber + Chili\n"
     ]
    }
   ],
   "source": [
    "breads = [\"Rye bread\" , \"Wheat\" , \"White\"]\n",
    "meats = [\"Meatball\" ,\"Sausage\" , \"Chicken breast\"]\n",
    "vegis = [\"Lettuce\" , \"Tomato\" , \"Cucumber\"]\n",
    "sauces = [\"Mayonnaise\" , \"Honey Mustard\" , \"Chili\"]\n",
    "\n",
    "print(\"Possible combinations of David's sandwich shop\")\n",
    "for b in breads:\n",
    "    for m in meats:\n",
    "        for v in vegis:\n",
    "            for s in sauces:\n",
    "                print(b+ \" + \"+ m+ \" + \"+ v+ \" + \"+ s)\n"
   ]
  },
  {
   "cell_type": "code",
   "execution_count": 16,
   "id": "d47d937c-6117-4448-b96c-25101f4403e1",
   "metadata": {},
   "outputs": [
    {
     "name": "stdout",
     "output_type": "stream",
     "text": [
      "0 welcome\n",
      "1 welcome\n",
      "2 welcome\n",
      "3 welcome\n",
      "4 welcome\n"
     ]
    }
   ],
   "source": [
    "for i in range(5):\n",
    "    print(i,\"welcome\")"
   ]
  },
  {
   "cell_type": "code",
   "execution_count": 17,
   "id": "fea2197a-5a3f-4b4b-aeea-e9489737bb24",
   "metadata": {},
   "outputs": [
    {
     "name": "stdout",
     "output_type": "stream",
     "text": [
      "[0, 1, 2, 3, 4]\n"
     ]
    }
   ],
   "source": [
    "print(list(range(0, 5, 1)))"
   ]
  },
  {
   "cell_type": "code",
   "execution_count": 18,
   "id": "94eb4df6-f391-4b42-95f1-46e6d63ef3f0",
   "metadata": {},
   "outputs": [
    {
     "name": "stdout",
     "output_type": "stream",
     "text": [
      "[0, 2, 4]\n"
     ]
    }
   ],
   "source": [
    "print(list(range(0, 5, 2)))"
   ]
  },
  {
   "cell_type": "code",
   "execution_count": 19,
   "id": "f40f6598-c58b-4943-9a2c-b973283b26bb",
   "metadata": {},
   "outputs": [
    {
     "name": "stdout",
     "output_type": "stream",
     "text": [
      "[2, 3, 4]\n"
     ]
    }
   ],
   "source": [
    "print(list(range(2,5)))"
   ]
  },
  {
   "cell_type": "code",
   "execution_count": 20,
   "id": "d3918505-bb44-4e5f-a9c8-dc97b99bd633",
   "metadata": {},
   "outputs": [
    {
     "name": "stdout",
     "output_type": "stream",
     "text": [
      "[0, 2, 4, 6, 8]\n"
     ]
    }
   ],
   "source": [
    "print(list(range(0, 10 , 2)))"
   ]
  },
  {
   "cell_type": "code",
   "execution_count": 22,
   "id": "28de7bf4-b3b7-44f3-8e10-e7c3dcf702f4",
   "metadata": {},
   "outputs": [
    {
     "name": "stdout",
     "output_type": "stream",
     "text": [
      "1\n",
      "2\n",
      "3\n",
      "4\n",
      "5\n",
      "6\n",
      "7\n",
      "8\n",
      "9\n",
      "10\n",
      "sum of numbers between 1 to 10  55\n"
     ]
    }
   ],
   "source": [
    "s = 0 \n",
    "for i in range(1,11):\n",
    "    print(i)\n",
    "    s += i\n",
    "print(\"sum of numbers between 1 to 10 \", s)"
   ]
  },
  {
   "cell_type": "code",
   "execution_count": 31,
   "id": "2f8c7323-45b0-4f84-b71a-503fccfa6e29",
   "metadata": {},
   "outputs": [
    {
     "name": "stdout",
     "output_type": "stream",
     "text": [
      "v\n",
      "J-Hope\n",
      "RM\n",
      "Jungkook\n",
      "Jin\n",
      "Jimin\n",
      "Suga\n"
     ]
    }
   ],
   "source": [
    "bts = [\"v\", \"J-Hope\", \"RM\", \"Jungkook\", \"Jin\", \"Jimin\", \"Suga\"]\n",
    "for n in bts:\n",
    "    print(n)"
   ]
  },
  {
   "cell_type": "code",
   "execution_count": 28,
   "id": "895a268f-1503-4f54-8c05-c21fc2441666",
   "metadata": {},
   "outputs": [
    {
     "name": "stdin",
     "output_type": "stream",
     "text": [
      "enter the end  number:  100\n"
     ]
    },
    {
     "name": "stdout",
     "output_type": "stream",
     "text": [
      "5050\n"
     ]
    }
   ],
   "source": [
    "n = int(input(\"enter the end  number: \"))\n",
    "s = 0\n",
    "for n in range(1 , n + 1):\n",
    "    s += n\n",
    "print(s)\n"
   ]
  },
  {
   "cell_type": "code",
   "execution_count": 29,
   "id": "515eaa12-2a28-494a-b774-23cbda924395",
   "metadata": {},
   "outputs": [
    {
     "name": "stdin",
     "output_type": "stream",
     "text": [
      "enter the end number:  100\n"
     ]
    },
    {
     "name": "stdout",
     "output_type": "stream",
     "text": [
      "Sum of even numbers from 0 to 100 =  2550\n"
     ]
    }
   ],
   "source": [
    "n = int(input(\"enter the end number: \"))\n",
    "s = 0\n",
    "for n in range(0,n+1,2):\n",
    "    s += n\n",
    "print(\"Sum of even numbers from 0 to 100 = \",s)"
   ]
  },
  {
   "cell_type": "code",
   "execution_count": 50,
   "id": "c54b00e3-77fe-4452-b125-a5bf1b678a1e",
   "metadata": {},
   "outputs": [
    {
     "name": "stdin",
     "output_type": "stream",
     "text": [
      "Enter radius:  5\n"
     ]
    },
    {
     "name": "stdout",
     "output_type": "stream",
     "text": [
      "area =  78.5 and circumference =  31.400000000000002\n"
     ]
    }
   ],
   "source": [
    "pi = 3.14\n",
    "r= int(input(\"Enter radius: \"))\n",
    "a= pi * r**2\n",
    "circum = 2 * pi * r\n",
    "print (\"area = \",a,\"and circumference = \",circum)"
   ]
  },
  {
   "cell_type": "code",
   "execution_count": 2,
   "id": "8d5228c4-586f-4d4b-a1a9-5cb00ee20210",
   "metadata": {},
   "outputs": [
    {
     "name": "stdin",
     "output_type": "stream",
     "text": [
      "choose fruit:\n",
      " 1) apple\n",
      " 2) banana\n",
      " 3) grape\n",
      " 4) orange   apple\n"
     ]
    },
    {
     "name": "stdout",
     "output_type": "stream",
     "text": [
      "The cost is  300 per  apple\n"
     ]
    },
    {
     "name": "stdin",
     "output_type": "stream",
     "text": [
      "How many apples are you taking?  3\n"
     ]
    },
    {
     "name": "stdout",
     "output_type": "stream",
     "text": [
      "The total cost is  900  Shillings\n"
     ]
    },
    {
     "name": "stdin",
     "output_type": "stream",
     "text": [
      "Please insert your money above^^^ 1000\n"
     ]
    },
    {
     "name": "stdout",
     "output_type": "stream",
     "text": [
      "Received  1000  shillings your balance is  100  shillings\n"
     ]
    }
   ],
   "source": [
    "order = input(\"choose fruit:\\n 1) apple\\n 2) banana\\n 3) grape\\n 4) orange  \").lower()\n",
    "if order == \"apple\":\n",
    "    cost = 300\n",
    "elif order == \"banana\":\n",
    "    cost =50\n",
    "elif order == \"grape\":\n",
    "    cost = 200\n",
    "elif order == \"orange\":\n",
    "    cost = 100\n",
    "else:\n",
    "    print(\"Not available\")\n",
    "    \n",
    "\n",
    "print(\"The cost is \",cost,\"per \",order)\n",
    "quantity = int(input(\"How many \"+ order +\"s are you taking? \"))\n",
    "total = cost * quantity\n",
    "print(\"The total cost is \",total,\" Shillings\")\n",
    "cash =int(input(\"Please insert your money above^^^\"))\n",
    "\n",
    "if cash < total:\n",
    "          print(\"Not enough money!\")\n",
    "else:\n",
    "    change = cash - total\n",
    "    print(\"Received \",cash,\" shillings your balance is \",change,\" shillings\")\n"
   ]
  },
  {
   "cell_type": "code",
   "execution_count": 6,
   "id": "b31fe723-55e1-4330-b0c3-9fc4c58550ac",
   "metadata": {},
   "outputs": [
    {
     "name": "stdin",
     "output_type": "stream",
     "text": [
      "Enter a number:  5\n"
     ]
    },
    {
     "name": "stdout",
     "output_type": "stream",
     "text": [
      "5! = 120\n"
     ]
    }
   ],
   "source": [
    "n = int(input(\"Enter a number: \"))\n",
    "fact = 1\n",
    "for i in range(1, n+1):\n",
    "    fact = fact * i\n",
    "print(str(n)+'! =',fact)"
   ]
  },
  {
   "cell_type": "code",
   "execution_count": 7,
   "id": "99eabc3a-0780-4ad2-8a20-cb48c6da12ef",
   "metadata": {},
   "outputs": [
    {
     "name": "stdout",
     "output_type": "stream",
     "text": [
      "n =  11\n",
      "n =  22\n",
      "n =  33\n",
      "n =  44\n",
      "n =  55\n",
      "n =  66\n"
     ]
    }
   ],
   "source": [
    "numbers = [11, 22, 33, 44, 55, 66]\n",
    "for n in numbers:\n",
    "    print(\"n = \", n)"
   ]
  },
  {
   "cell_type": "code",
   "execution_count": 8,
   "id": "b24c0cfc-b352-48eb-868c-eb9f9b1dd4f8",
   "metadata": {},
   "outputs": [
    {
     "name": "stdout",
     "output_type": "stream",
     "text": [
      "sum =  150\n"
     ]
    }
   ],
   "source": [
    "numbers = [10, 20, 30, 40, 50]\n",
    "print(\"sum = \", sum(numbers))"
   ]
  },
  {
   "cell_type": "code",
   "execution_count": 9,
   "id": "3ac7de24-4399-424d-84ac-ba0caa15cf48",
   "metadata": {},
   "outputs": [
    {
     "name": "stdout",
     "output_type": "stream",
     "text": [
      "['h', 'e', 'l', 'l', 'o']\n"
     ]
    }
   ],
   "source": [
    "st = \"hello\"\n",
    "print(list(st))"
   ]
  },
  {
   "cell_type": "code",
   "execution_count": 2,
   "id": "3775928f-55e8-4985-bd0b-75144d5d70a0",
   "metadata": {},
   "outputs": [
    {
     "name": "stdout",
     "output_type": "stream",
     "text": [
      "H * e * l * l * o * "
     ]
    }
   ],
   "source": [
    "for ch in \"Hello\":\n",
    "    print(ch, end = ' * ')"
   ]
  },
  {
   "cell_type": "code",
   "execution_count": 5,
   "id": "a0ba4419-fe20-457d-aeca-497f6b3dd780",
   "metadata": {},
   "outputs": [
    {
     "name": "stdout",
     "output_type": "stream",
     "text": [
      "My name is - teueeu\n"
     ]
    }
   ],
   "source": [
    "print(\"My name is\", end = ' - ')\n",
    "print(\"teueeu\")"
   ]
  },
  {
   "cell_type": "code",
   "execution_count": 20,
   "id": "9c77bd4b-c58f-41d9-a3c7-a72308d8afbd",
   "metadata": {},
   "outputs": [
    {
     "name": "stdout",
     "output_type": "stream",
     "text": [
      "s-e-p\n"
     ]
    }
   ],
   "source": [
    "print('s', 'e', 'p', sep = '-')"
   ]
  },
  {
   "cell_type": "code",
   "execution_count": 8,
   "id": "17a41b16-2d6e-4472-91c1-f25f34a62de7",
   "metadata": {},
   "outputs": [
    {
     "name": "stdout",
     "output_type": "stream",
     "text": [
      "Hello-World!\n"
     ]
    }
   ],
   "source": [
    "print(\"Hello\", \"World!\",sep = '-')"
   ]
  },
  {
   "cell_type": "code",
   "execution_count": null,
   "id": "6e98894e-5f76-4dc6-97cb-14d4c9676d3f",
   "metadata": {},
   "outputs": [],
   "source": [
    "print(\"Hello I will Introduce myself.\")"
   ]
  },
  {
   "cell_type": "code",
   "execution_count": 32,
   "id": "6ee31add-0920-4573-9d82-83a82c0010e6",
   "metadata": {},
   "outputs": [
    {
     "name": "stdin",
     "output_type": "stream",
     "text": [
      "Enter the end value:  100\n"
     ]
    },
    {
     "name": "stdout",
     "output_type": "stream",
     "text": [
      "Sum of odd numbers 2500\n"
     ]
    }
   ],
   "source": [
    "n = int(input(\"Enter the end value: \"))\n",
    "s = 0\n",
    "for n in range(1,n+1,2):\n",
    "    s += n\n",
    "print(\"Sum of odd numbers\",s)"
   ]
  },
  {
   "cell_type": "code",
   "execution_count": 6,
   "id": "ee0b2fe8-e139-413d-84b1-1eaf8864e308",
   "metadata": {},
   "outputs": [
    {
     "name": "stdin",
     "output_type": "stream",
     "text": [
      "Enter the start value:  1\n",
      "Enter the end value:  100\n",
      "Enter the steps after values:  2\n"
     ]
    },
    {
     "name": "stdout",
     "output_type": "stream",
     "text": [
      "sum of odd numbers =  2500\n"
     ]
    }
   ],
   "source": [
    "s = int(input(\"Enter the start value: \"))\n",
    "e = int(input(\"Enter the end value: \"))\n",
    "r = int(input(\"Enter the steps after values: \"))\n",
    "t = 0\n",
    "for f in range(s, e+1, r):\n",
    "    t += f\n",
    "print(\"sum of odd numbers = \",t)"
   ]
  },
  {
   "cell_type": "code",
   "execution_count": 44,
   "id": "237fa838-6500-4fd2-9f0d-800919160a0a",
   "metadata": {},
   "outputs": [
    {
     "name": "stdout",
     "output_type": "stream",
     "text": [
      "['e', 'h', 'e', 'h', 'e', 'h', 'h', 'f', 'r']\n"
     ]
    }
   ],
   "source": [
    "string = \"ehehehhfr\"\n",
    "print(list(string))"
   ]
  },
  {
   "cell_type": "code",
   "execution_count": 45,
   "id": "d9cda5c7-4e26-4f71-881d-31205776dde4",
   "metadata": {},
   "outputs": [
    {
     "name": "stdout",
     "output_type": "stream",
     "text": [
      "my name is  : yegeuhdw,end \n"
     ]
    }
   ],
   "source": [
    "print(\"my name is \",end =' : ')\n",
    "print(\"yegeuhdw,end \")"
   ]
  },
  {
   "cell_type": "code",
   "execution_count": 46,
   "id": "474bdd4d-7f3e-468c-8fe9-56edc1290938",
   "metadata": {},
   "outputs": [
    {
     "name": "stdout",
     "output_type": "stream",
     "text": [
      "d\n",
      "d\n",
      "e\n",
      "h\n",
      "f\n",
      "e\n",
      "h\n"
     ]
    }
   ],
   "source": [
    "for ffrf in \"ddehfeh\":\n",
    "    print(ffrf)"
   ]
  },
  {
   "cell_type": "code",
   "execution_count": 49,
   "id": "dba63c80-a907-427b-9534-e4df206c8ba4",
   "metadata": {},
   "outputs": [
    {
     "name": "stdout",
     "output_type": "stream",
     "text": [
      "d : j : e : iji : e\n"
     ]
    }
   ],
   "source": [
    "print('d','j','e','iji','e', sep =' : ')"
   ]
  },
  {
   "cell_type": "code",
   "execution_count": 3,
   "id": "be8a66bb-4972-4349-ada3-ef617dd3cdfa",
   "metadata": {},
   "outputs": [
    {
     "name": "stdout",
     "output_type": "stream",
     "text": [
      "sum =  2500\n"
     ]
    }
   ],
   "source": [
    "numbers = range(1,101,2)\n",
    "print(\"sum = \",sum(numbers))"
   ]
  },
  {
   "cell_type": "code",
   "execution_count": 5,
   "id": "10081dee-5614-4f02-b9bb-5636d180d670",
   "metadata": {},
   "outputs": [
    {
     "name": "stdin",
     "output_type": "stream",
     "text": [
      "enter the end value:  100\n"
     ]
    },
    {
     "name": "stdout",
     "output_type": "stream",
     "text": [
      "2500\n"
     ]
    }
   ],
   "source": [
    "t = 0\n",
    "n = int(input(\"enter the end value: \"))\n",
    "for e in range(1, n+1,2):\n",
    "    t += e\n",
    "print(t)"
   ]
  },
  {
   "cell_type": "code",
   "execution_count": 103,
   "id": "fe5d6c8b-bf0c-4b6d-8605-f466c3b75d54",
   "metadata": {},
   "outputs": [
    {
     "name": "stdin",
     "output_type": "stream",
     "text": [
      "enter n:  5\n"
     ]
    },
    {
     "name": "stdout",
     "output_type": "stream",
     "text": [
      "1\n",
      "2\n",
      "3\n",
      "4\n",
      "5\n"
     ]
    }
   ],
   "source": [
    "n = int(input(\"enter n: \"))\n",
    "t = 0\n",
    "for e in range(1,n+1):\n",
    "    t += 1\n",
    "    print(t)"
   ]
  },
  {
   "cell_type": "code",
   "execution_count": 97,
   "id": "15e2534a-0bd2-4de0-bd5c-584b22bbd6e2",
   "metadata": {},
   "outputs": [
    {
     "name": "stdin",
     "output_type": "stream",
     "text": [
      "enter n:  5\n"
     ]
    },
    {
     "name": "stdout",
     "output_type": "stream",
     "text": [
      " 1  2  3  4  5 6 \n",
      " 7 \n",
      " 8 \n",
      " 9 \n",
      " 10 \n",
      " 11 12 13 14 15 16 \n",
      " 17 \n",
      " 18 \n",
      " 19 \n",
      " 20 \n",
      " 21 22 23 24 25 \n"
     ]
    }
   ],
   "source": [
    "t = 0\n",
    "n = int(input(\"enter n: \"))\n",
    "seats = n * n\n",
    "for e in range (1, seats + 1):\n",
    "    t += 1\n",
    "    if t <= 5:\n",
    "        print(\"\",str(t),end = ' ')\n",
    "    elif e <= 10:\n",
    "        print(str(t),\"\\n\", end = ' ')\n",
    "    elif e <= 15:\n",
    "        print(str(t),end = ' ')\n",
    "    elif e <= 20:\n",
    "        print(str(t),\"\\n\",end = ' ')\n",
    "    else:\n",
    "        print(str(t), end =' ')\n",
    "print()\n",
    "\n",
    "  \n",
    "    "
   ]
  },
  {
   "cell_type": "code",
   "execution_count": 10,
   "id": "95a28694-2b65-42bf-8e6f-6472ebf04d70",
   "metadata": {},
   "outputs": [
    {
     "name": "stdin",
     "output_type": "stream",
     "text": [
      "Enter x coordinate:  5\n",
      "Enter y cooredinate:  5\n"
     ]
    },
    {
     "name": "stdout",
     "output_type": "stream",
     "text": [
      "first quater\n"
     ]
    }
   ],
   "source": [
    "x = float(input(\"Enter x coordinate: \"))\n",
    "y = float(input(\"Enter y cooredinate: \"))\n",
    "if x > 0 and y > 0:\n",
    "    print(\"first quater\")\n",
    "elif x > 0 and y < 0:\n",
    "    print(\"second quater\")\n",
    "elif x < 0 and y < 0:\n",
    "    print(\"third quater\")\n",
    "elif x < 0 and y > 0:\n",
    "    print(\"fourth quater\")\n",
    "else:\n",
    "    print(\"Something went wrong!\")"
   ]
  },
  {
   "cell_type": "code",
   "execution_count": 3,
   "id": "a964b310-df52-417e-a92b-2af62c2c614b",
   "metadata": {},
   "outputs": [
    {
     "name": "stdout",
     "output_type": "stream",
     "text": [
      "welcome to everyone\n",
      "welcome to everyone\n",
      "welcome to everyone\n",
      "welcome to everyone\n",
      "welcome to everyone\n"
     ]
    }
   ],
   "source": [
    "i = 0\n",
    "while i < 5:\n",
    "    print(\"welcome to everyone\")\n",
    "    i += 1"
   ]
  },
  {
   "cell_type": "code",
   "execution_count": 7,
   "id": "d1e42b0e-bb0e-4250-a2e7-e808145c9d5c",
   "metadata": {},
   "outputs": [
    {
     "name": "stdin",
     "output_type": "stream",
     "text": [
      "Enter a number to sum upto :  5\n"
     ]
    },
    {
     "name": "stdout",
     "output_type": "stream",
     "text": [
      "sum of 1 to 5 is 15\n"
     ]
    }
   ],
   "source": [
    "n = int(input(\"Enter a number to sum upto : \"))\n",
    "s = 0\n",
    "i = 1\n",
    "while i <= n:\n",
    "    s += i\n",
    "    i +=1\n",
    "print(\"sum of 1 to {} is {}\".format(n,s))"
   ]
  },
  {
   "cell_type": "code",
   "execution_count": 18,
   "id": "90bed58d-0edf-43f9-896a-ec2735983cb9",
   "metadata": {},
   "outputs": [],
   "source": [
    "i = 1\n",
    "while i > 6 :\n",
    "    print(i)\n",
    "    if i == 3:\n",
    "        break\n",
    "    i += 1"
   ]
  },
  {
   "cell_type": "code",
   "execution_count": 25,
   "id": "38cffa48-f2f7-435a-9947-986bcbb3ca3b",
   "metadata": {},
   "outputs": [
    {
     "name": "stdin",
     "output_type": "stream",
     "text": [
      "Enter end value:  10\n"
     ]
    },
    {
     "name": "stdout",
     "output_type": "stream",
     "text": [
      "2 x 1 =  2 \n",
      "2 x 2 =  4 \n",
      "2 x 3 =  6 \n",
      "2 x 4 =  8 \n",
      "2 x 5 = 10 \n",
      "2 x 6 = 12 \n",
      "2 x 7 = 14 \n",
      "2 x 8 = 16 \n",
      "2 x 9 = 18 \n",
      "2 x 10 = 20 \n",
      "2 x 11 = 22 \n",
      "2 x 12 = 24 \n"
     ]
    }
   ],
   "source": [
    "t = int(input(\"Enter end value: \")) + 1\n",
    "i = 0\n",
    "n = 2\n",
    "while i <= t:\n",
    "    i += 1\n",
    "    r = n * i\n",
    "    print(\"{} x {} = {:2d} \".format(n, i, r))"
   ]
  },
  {
   "cell_type": "code",
   "execution_count": 8,
   "id": "aed9eef1-d978-4192-9bf3-2059af7244af",
   "metadata": {},
   "outputs": [
    {
     "name": "stdin",
     "output_type": "stream",
     "text": [
      "Enter a positive number to sum up to:  5\n"
     ]
    },
    {
     "name": "stdout",
     "output_type": "stream",
     "text": [
      "sum of 1 to 5 is 15\n"
     ]
    }
   ],
   "source": [
    "n = -1\n",
    "while n <= 0: #input() repeated until positive value is entered\n",
    "    n = int(input(\"Enter a positive number to sum up to: \"))\n",
    "s = 0\n",
    "for i in range(1, n+1):\n",
    "    s = s + i\n",
    "print(\"sum of 1 to {} is {}\".format(n,s))"
   ]
  },
  {
   "cell_type": "code",
   "execution_count": 5,
   "id": "893988d3-ab4e-4f4d-a46a-e531fa05fb89",
   "metadata": {},
   "outputs": [
    {
     "name": "stdin",
     "output_type": "stream",
     "text": [
      "Enter a number to sum up to:  5\n"
     ]
    },
    {
     "name": "stdout",
     "output_type": "stream",
     "text": [
      "sum of 1 to 5 is 15\n"
     ]
    }
   ],
   "source": [
    "#*****WITH LOGICAL ERROR*****\n",
    "x = 1\n",
    "n= int(input(\"Enter a number to sum up to: \"))\n",
    "s = 0\n",
    "for i in range(1, n+1):\n",
    "    s = s + i\n",
    "print(\"sum of {} to {} is {}\" .format(x, n, s))"
   ]
  },
  {
   "cell_type": "code",
   "execution_count": 6,
   "id": "87dc0832-4afe-4fb1-8b71-c1e5e14dd79f",
   "metadata": {},
   "outputs": [
    {
     "name": "stdin",
     "output_type": "stream",
     "text": [
      "Enter start value:  1\n",
      "Enter end value:  5\n"
     ]
    },
    {
     "name": "stdout",
     "output_type": "stream",
     "text": [
      "15\n"
     ]
    }
   ],
   "source": [
    "t = int(input(\"Enter start value: \"))\n",
    "n = int(input(\"Enter end value: \"))\n",
    "s = 0\n",
    "while n < 0:\n",
    "    n = int(input(\"please enter a positive end value: \"))\n",
    "for i in range(t, n+1):\n",
    "    s += i\n",
    "print(s)"
   ]
  },
  {
   "cell_type": "code",
   "execution_count": 14,
   "id": "6429798a-9573-4e43-a4b8-6d75ff5dbbb1",
   "metadata": {},
   "outputs": [
    {
     "name": "stdout",
     "output_type": "stream",
     "text": [
      "0.5022028956804138\n",
      "2\n",
      "0\n",
      "10\n"
     ]
    }
   ],
   "source": [
    "import random as rd  #ABBREVIATION\n",
    "print(rd.random())  #returns a random real\n",
    "print(rd.randrange(1,7))  #returns an integer greater than or equal to 1 and less than 7.\n",
    "print(rd.randrange(0,10,2)) #returns a mutiple of 2 of integers greater than or equal to 0 and less than 10.\n",
    "print(rd.randint(1,10))  # returns an arbirary integer greater or equal to 1 and less than or equal to 10.\n"
   ]
  },
  {
   "cell_type": "code",
   "execution_count": 17,
   "id": "1d443d4b-19c2-4e40-898c-79ef9a488eae",
   "metadata": {},
   "outputs": [
    {
     "name": "stdout",
     "output_type": "stream",
     "text": [
      "[50, 10, 40, 30, 20]\n",
      "30\n",
      "[10, 50, 40]\n"
     ]
    }
   ],
   "source": [
    "numlist = [10 , 20, 30 , 40, 50]\n",
    "rd.shuffle(numlist)\n",
    "print(numlist)\n",
    "\n",
    "print(rd.choice(numlist))\n",
    "print(rd.sample(numlist, 3))"
   ]
  },
  {
   "cell_type": "code",
   "execution_count": 22,
   "id": "053cbd33-ea2d-4674-b225-5cbda0423057",
   "metadata": {},
   "outputs": [
    {
     "name": "stdout",
     "output_type": "stream",
     "text": [
      "[1, 2, 3, 4, 5, 6, 7, 8, 9, 10]\n",
      "[10, 2, 3, 1, 8, 6, 9, 4, 5, 7]\n"
     ]
    }
   ],
   "source": [
    "a = list(range(1,11)) #returns integer from 1 to 10\n",
    "print(a)\n",
    "rd.shuffle(a)  # randomly mixes them\n",
    "print(a)"
   ]
  },
  {
   "cell_type": "code",
   "execution_count": 23,
   "id": "916d9ef7-0341-4c6a-91d9-99923b2a65bd",
   "metadata": {},
   "outputs": [
    {
     "name": "stdout",
     "output_type": "stream",
     "text": [
      "Arbitrary integer between 1 to 10:  [1, 8, 4]\n"
     ]
    }
   ],
   "source": [
    "import random as rd\n",
    "\n",
    "a = list(range(1,11))\n",
    "b = rd.sample(a,3)\n",
    "print(\"Arbitrary integer between 1 to 10: \",b)"
   ]
  },
  {
   "cell_type": "code",
   "execution_count": 79,
   "id": "5ed9b536-3537-4099-b947-b8d7e27f169a",
   "metadata": {},
   "outputs": [
    {
     "name": "stdout",
     "output_type": "stream",
     "text": [
      "[2, 3, 4, 5, 6, 7, 8, 9]\n"
     ]
    }
   ],
   "source": [
    "print(list(range(2,10)))"
   ]
  },
  {
   "cell_type": "code",
   "execution_count": 86,
   "id": "6b8188a6-b027-41b4-b70a-d0278ca4b7e5",
   "metadata": {},
   "outputs": [
    {
     "name": "stdout",
     "output_type": "stream",
     "text": [
      "None\n"
     ]
    }
   ],
   "source": [
    "prime = []\n",
    "for i in range(1,20):\n",
    "    itis = True\n",
    "    for num in range(2,i):\n",
    "        if i % num == 0:\n",
    "            itis = False\n",
    "if itis == True:\n",
    "    print(prime.append(i))\n",
    "else:\n",
    "    print(\"no\")\n",
    "    \n",
    "    "
   ]
  },
  {
   "cell_type": "code",
   "execution_count": 3,
   "id": "28b2fe5f-86b5-43fd-b4b2-d32c2dad3aed",
   "metadata": {},
   "outputs": [
    {
     "name": "stdin",
     "output_type": "stream",
     "text": [
      "enter starting value:  10\n"
     ]
    },
    {
     "name": "stdout",
     "output_type": "stream",
     "text": [
      "10\n",
      "9\n",
      "8\n",
      "7\n",
      "6\n",
      "5\n",
      "4\n",
      "3\n",
      "2\n",
      "1\n",
      "Liftoff!\n"
     ]
    }
   ],
   "source": [
    "count = int(input(\"enter starting value: \")) + 1\n",
    "while count > 1:\n",
    "    count -= 1\n",
    "    print(count)\n",
    "print(\"Liftoff!\")"
   ]
  },
  {
   "cell_type": "code",
   "execution_count": 9,
   "id": "8c552d3d-0017-4639-8afc-a94e493fc1a8",
   "metadata": {},
   "outputs": [
    {
     "name": "stdout",
     "output_type": "stream",
     "text": [
      "p\n",
      "r\n",
      "the end\n"
     ]
    }
   ],
   "source": [
    "st = \"programming\"\n",
    "# function of executing only whe it is consonant\n",
    "for ch in st:\n",
    "    if ch in ['a', 'e', 'i', 'o', 'u']:\n",
    "        break #end the loop if it is a vowel\n",
    "    print(ch)\n",
    "print(\"the end\")"
   ]
  },
  {
   "cell_type": "code",
   "execution_count": 8,
   "id": "f7359e63-b117-48bc-8375-8400c1891f93",
   "metadata": {},
   "outputs": [
    {
     "name": "stdout",
     "output_type": "stream",
     "text": [
      "p\n",
      "r\n",
      "g\n",
      "r\n",
      "m\n",
      "m\n",
      "n\n",
      "g\n",
      "the end\n"
     ]
    }
   ],
   "source": [
    "st = \"programming\"\n",
    "# function of executing only when it is consonant\n",
    "for ch in st:\n",
    "    if ch in ['a', 'e', 'i', 'o', 'u']:\n",
    "        continue #skip if it is a vowel\n",
    "    print(ch)\n",
    "print(\"the end\")"
   ]
  },
  {
   "cell_type": "code",
   "execution_count": 1,
   "id": "6ef9076d-4933-4518-9a91-a73cf97a46d3",
   "metadata": {},
   "outputs": [
    {
     "name": "stdout",
     "output_type": "stream",
     "text": [
      "1x1 =  1   1x2 =  2   1x3 =  3   1x4 =  4   1x5 =  5   1x6 =  6   1x7 =  7   1x8 =  8   1x9 =  9   \n",
      "2x1 =  2   2x2 =  4   2x3 =  6   2x4 =  8   2x5 = 10   2x6 = 12   2x7 = 14   2x8 = 16   2x9 = 18   \n",
      "3x1 =  3   3x2 =  6   3x3 =  9   3x4 = 12   3x5 = 15   3x6 = 18   3x7 = 21   3x8 = 24   3x9 = 27   \n",
      "4x1 =  4   4x2 =  8   4x3 = 12   4x4 = 16   4x5 = 20   4x6 = 24   4x7 = 28   4x8 = 32   4x9 = 36   \n",
      "5x1 =  5   5x2 = 10   5x3 = 15   5x4 = 20   5x5 = 25   5x6 = 30   5x7 = 35   5x8 = 40   5x9 = 45   \n",
      "6x1 =  6   6x2 = 12   6x3 = 18   6x4 = 24   6x5 = 30   6x6 = 36   6x7 = 42   6x8 = 48   6x9 = 54   \n",
      "7x1 =  7   7x2 = 14   7x3 = 21   7x4 = 28   7x5 = 35   7x6 = 42   7x7 = 49   7x8 = 56   7x9 = 63   \n",
      "8x1 =  8   8x2 = 16   8x3 = 24   8x4 = 32   8x5 = 40   8x6 = 48   8x7 = 56   8x8 = 64   8x9 = 72   \n",
      "9x1 =  9   9x2 = 18   9x3 = 27   9x4 = 36   9x5 = 45   9x6 = 54   9x7 = 63   9x8 = 72   9x9 = 81   \n"
     ]
    }
   ],
   "source": [
    "for i in range(1, 10):     #outer for loop\n",
    "    for j in range(1,10):    #inner for loop\n",
    "        print(\"{}x{} = {:2d},  \" .format(i, j, i *j),end = ' ')\n",
    "    print()          #executes inner loop and change line"
   ]
  },
  {
   "cell_type": "code",
   "execution_count": 24,
   "id": "465c9328-6f75-4e43-8659-8faef55f6d2e",
   "metadata": {},
   "outputs": [
    {
     "name": "stdout",
     "output_type": "stream",
     "text": [
      "1000\n",
      "950\n",
      "900\n",
      "850\n",
      "800\n",
      "750\n",
      "700\n",
      "650\n",
      "600\n",
      "550\n",
      "500\n",
      "450\n",
      "400\n",
      "350\n",
      "300\n",
      "250\n",
      "200\n",
      "150\n"
     ]
    }
   ],
   "source": [
    "#negative range\n",
    "for s in range (1000,100,-50):\n",
    "    print(s)"
   ]
  },
  {
   "cell_type": "code",
   "execution_count": 44,
   "id": "d9bfe8f1-9d40-4c3b-9e25-279e87f7faab",
   "metadata": {},
   "outputs": [
    {
     "name": "stdin",
     "output_type": "stream",
     "text": [
      "Enter number:  5\n"
     ]
    },
    {
     "name": "stdout",
     "output_type": "stream",
     "text": [
      "1 \n",
      "1 2 \n",
      "1 2 3 \n",
      "1 2 3 4 \n",
      "1 2 3 4 5 \n"
     ]
    }
   ],
   "source": [
    "n = int(input(\"Enter number: \"))\n",
    "for i in range(1,n+1):\n",
    "    for i in range(1, i+1):\n",
    "        print(i, end= \" \")\n",
    "    print()\n"
   ]
  },
  {
   "cell_type": "code",
   "execution_count": 21,
   "id": "99e0f139-8f27-4d64-ad09-45ed03e31022",
   "metadata": {},
   "outputs": [
    {
     "name": "stdin",
     "output_type": "stream",
     "text": [
      "enter the end value:  100\n"
     ]
    },
    {
     "name": "stdout",
     "output_type": "stream",
     "text": [
      "1 2 3 5 7 11 13 17 19 23 29 31 37 41 43 47 53 59 61 67 71 73 79 83 89 97 "
     ]
    }
   ],
   "source": [
    "n = int(input(\"enter the end value: \"))\n",
    "for t in range(1,n+1):\n",
    "    for p in range(2,int(t/2)+1):\n",
    "        if t % p == 0:\n",
    "            break\n",
    "    else:   \n",
    "        print(t,end = ' ')"
   ]
  },
  {
   "cell_type": "code",
   "execution_count": 34,
   "id": "bc419112-db6e-42b5-bf9c-c09d11edb77b",
   "metadata": {},
   "outputs": [
    {
     "name": "stdin",
     "output_type": "stream",
     "text": [
      "enter anything:  qwerty\n"
     ]
    },
    {
     "name": "stdout",
     "output_type": "stream",
     "text": [
      "y\n",
      "t\n",
      "r\n",
      "e\n",
      "w\n",
      "q\n"
     ]
    }
   ],
   "source": [
    "string = input(\"enter anything: \")\n",
    "for i in string[::-1]:\n",
    "    print(i)"
   ]
  },
  {
   "cell_type": "code",
   "execution_count": 50,
   "id": "935d6cf4-4063-4b99-809a-dd976237bc42",
   "metadata": {},
   "outputs": [
    {
     "name": "stdin",
     "output_type": "stream",
     "text": [
      "enter any number:  253\n"
     ]
    },
    {
     "name": "stdout",
     "output_type": "stream",
     "text": [
      "25.3\n"
     ]
    }
   ],
   "source": [
    "num = int(input(\"enter any number: \"))\n",
    "t == num\n",
    "while t < 0:\n",
    "    q = int(t)//10\n",
    "    r = t % 10\n",
    "print(q)\n",
    "\n"
   ]
  },
  {
   "cell_type": "code",
   "execution_count": 47,
   "id": "ccd1ae09-3be3-489d-85fc-a30a5380a907",
   "metadata": {},
   "outputs": [
    {
     "name": "stdout",
     "output_type": "stream",
     "text": [
      "25\n"
     ]
    }
   ],
   "source": [
    "t = 253//10\n",
    "print(t)"
   ]
  },
  {
   "cell_type": "code",
   "execution_count": 10,
   "id": "e2ac03af-5362-4747-94fd-6773f5bb9b08",
   "metadata": {},
   "outputs": [
    {
     "name": "stdin",
     "output_type": "stream",
     "text": [
      "Enter year:  2024\n",
      "Enter month:  8\n"
     ]
    },
    {
     "name": "stdout",
     "output_type": "stream",
     "text": [
      "    August 2024\n",
      "Mo Tu We Th Fr Sa Su\n",
      "          1  2  3  4\n",
      " 5  6  7  8  9 10 11\n",
      "12 13 14 15 16 17 18\n",
      "19 20 21 22 23 24 25\n",
      "26 27 28 29 30 31\n",
      "\n"
     ]
    }
   ],
   "source": [
    "import calendar\n",
    "\n",
    "year = int(input(\"Enter year: \"))  \n",
    "month = int(input(\"Enter month: \"))\n",
    "\n",
    "cal = calendar.month(year, month)\n",
    "\n",
    "print(cal)"
   ]
  },
  {
   "cell_type": "code",
   "execution_count": 18,
   "id": "1109f6df-7c6f-4b53-8c2d-49800b207932",
   "metadata": {},
   "outputs": [
    {
     "name": "stdin",
     "output_type": "stream",
     "text": [
      "Enter two integers:  10 0\n"
     ]
    },
    {
     "name": "stdout",
     "output_type": "stream",
     "text": [
      "Check if integers are correctly entered.\n"
     ]
    }
   ],
   "source": [
    "try:\n",
    "    a, b = input(\"Enter two integers: \").split()\n",
    "    result = int(a) / int(b)\n",
    "    print(\"{}/{} = {}\".format(a,b,result))\n",
    "\n",
    "except:\n",
    "    print(\"Check if integers are correctly entered.\")"
   ]
  },
  {
   "cell_type": "code",
   "execution_count": 29,
   "id": "05f92c43-3643-46ab-b0c3-581d20c33742",
   "metadata": {},
   "outputs": [
    {
     "name": "stdout",
     "output_type": "stream",
     "text": [
      "the average age is 26.75\n"
     ]
    }
   ],
   "source": [
    "person1 = [\"David Doe\", 20, 1, 180.0, 100.0]\n",
    "person2 = [\"John Smith\", 25, 1, 170.0, 70.0]\n",
    "person3 = [\"Jane Carter\", 22, 0, 169.0, 60.0]\n",
    "person4 = [\"Peter Kelly\", 40, 1, 150.0, 50.0]\n",
    "\n",
    "person_list = person1 + person2 + person3 + person4\n",
    "\n",
    "n_persons = int(len(person_list) / 5)\n",
    "age_sum = 0.0\n",
    "for age in person_list[1::5]:\n",
    "    age_sum += age\n",
    "average_age = float(age_sum) / n_persons\n",
    "print(\"the average age is \" + str(average_age))"
   ]
  },
  {
   "cell_type": "code",
   "execution_count": 9,
   "id": "c6d889ee-ccf3-48f3-9ee4-e541f2cc574c",
   "metadata": {},
   "outputs": [
    {
     "name": "stdin",
     "output_type": "stream",
     "text": [
      "Enter end value:  10\n"
     ]
    },
    {
     "name": "stdout",
     "output_type": "stream",
     "text": [
      "1\n",
      "2\n",
      "3\n",
      "5\n",
      "7\n"
     ]
    }
   ],
   "source": [
    "#Prime numbers between 1 and 10\n",
    "n = int(input(\"Enter end value: \")) + 1\n",
    "for i in range(1,n):\n",
    "    for x in range(2,i):\n",
    "        if i % x == 0:\n",
    "            break\n",
    "    else:\n",
    "        print(i)\n",
    "\n",
    "            \n",
    "        "
   ]
  },
  {
   "cell_type": "code",
   "execution_count": 15,
   "id": "b3eb41d2-5242-4376-8752-d34bfe5ac878",
   "metadata": {},
   "outputs": [
    {
     "data": {
      "text/plain": [
       "[87, 84, 95, 67, 88, 94, 63]"
      ]
     },
     "execution_count": 15,
     "metadata": {},
     "output_type": "execute_result"
    }
   ],
   "source": [
    "score_list = [87, 84, 95, 67, 88, 94, 63]\n",
    "score_list"
   ]
  },
  {
   "cell_type": "code",
   "execution_count": 16,
   "id": "6c007a86-5851-44bb-8667-c591f9c40af3",
   "metadata": {},
   "outputs": [
    {
     "name": "stdout",
     "output_type": "stream",
     "text": [
      "87 67\n"
     ]
    }
   ],
   "source": [
    "score_list = [87, 84, 95, 67, 88, 94, 63]\n",
    "print(score_list[0], score_list[3])"
   ]
  },
  {
   "cell_type": "code",
   "execution_count": 18,
   "id": "45cd21d3-db68-4411-9d49-879ab8ab6c77",
   "metadata": {},
   "outputs": [
    {
     "name": "stdout",
     "output_type": "stream",
     "text": [
      "['banana', 'apple', 'orange', 'kiwi']\n",
      "[100, 200, 'apple', 400]\n",
      "['banana', 'apple', 'orange', 'kiwi', 100, 200, 'apple', 400]\n"
     ]
    }
   ],
   "source": [
    "fruits = [\"banana\", \"apple\", \"orange\", \"kiwi\"] #list with strings\n",
    "print(fruits)\n",
    "mixed_list = [100, 200, \"apple\", 400]\n",
    "print(mixed_list)\n",
    "print(fruits + mixed_list)"
   ]
  },
  {
   "cell_type": "code",
   "execution_count": 20,
   "id": "0b588ebd-e8fd-4d56-8f91-7df67665507a",
   "metadata": {},
   "outputs": [
    {
     "name": "stdout",
     "output_type": "stream",
     "text": [
      "[1, 2, 3, 4, 5, 6, 7, 8, 9]\n"
     ]
    }
   ],
   "source": [
    "list4 = list(range(1,10))\n",
    "print(list4)"
   ]
  },
  {
   "cell_type": "code",
   "execution_count": 21,
   "id": "82cd23f6-611e-4b68-a307-4535023694f9",
   "metadata": {},
   "outputs": [
    {
     "name": "stdout",
     "output_type": "stream",
     "text": [
      "[11, 22, 33, 44, 55, 66]\n",
      "6\n"
     ]
    }
   ],
   "source": [
    "n_list = [11, 22, 33, 44, 55, 66]\n",
    "print(n_list)\n",
    "print(len(n_list))"
   ]
  },
  {
   "cell_type": "code",
   "execution_count": 23,
   "id": "bc12c929-0c97-4880-a379-50566bc3bffe",
   "metadata": {},
   "outputs": [
    {
     "data": {
      "text/plain": [
       "66"
      ]
     },
     "execution_count": 23,
     "metadata": {},
     "output_type": "execute_result"
    }
   ],
   "source": [
    "n_list = [11, 22, 33, 44, 55, 66]\n",
    "n_list[-1]\n"
   ]
  },
  {
   "cell_type": "code",
   "execution_count": 24,
   "id": "f762ca08-269c-4eb9-ab69-9b13c9d2c9ca",
   "metadata": {},
   "outputs": [
    {
     "data": {
      "text/plain": [
       "55"
      ]
     },
     "execution_count": 24,
     "metadata": {},
     "output_type": "execute_result"
    }
   ],
   "source": [
    "n_list[-2]"
   ]
  },
  {
   "cell_type": "code",
   "execution_count": 26,
   "id": "97afacb8-62d4-40e5-a8e5-01c14fe5b5dc",
   "metadata": {},
   "outputs": [
    {
     "data": {
      "text/plain": [
       "['a', 'b', 'c', 'd', 'e', 'f']"
      ]
     },
     "execution_count": 26,
     "metadata": {},
     "output_type": "execute_result"
    }
   ],
   "source": [
    "a_list = [\"a\", \"b\", \"c\", \"d\", \"e\"]\n",
    "a_list.append(\"f\") # Add f\n",
    "a_list"
   ]
  },
  {
   "cell_type": "code",
   "execution_count": 31,
   "id": "b91a340c-6067-4986-ae0c-f1531a02490c",
   "metadata": {},
   "outputs": [
    {
     "data": {
      "text/plain": [
       "[10, 20, 30, 40, 50]"
      ]
     },
     "execution_count": 31,
     "metadata": {},
     "output_type": "execute_result"
    }
   ],
   "source": [
    "n_list = [10, 20, 30, 40]\n",
    "n_list.append(50) #add 50\n",
    "n_list"
   ]
  },
  {
   "cell_type": "code",
   "execution_count": 36,
   "id": "be61f3ea-fa53-4c26-b9d6-711a15846c63",
   "metadata": {},
   "outputs": [
    {
     "data": {
      "text/plain": [
       "['a', 'b', 'c', 1, 2, 3]"
      ]
     },
     "execution_count": 36,
     "metadata": {},
     "output_type": "execute_result"
    }
   ],
   "source": [
    "list1 = [\"a\", \"b\", \"c\",]\n",
    "list2 = [1, 2, 3]\n",
    "list1.extend(list2)\n",
    "list1"
   ]
  },
  {
   "cell_type": "code",
   "execution_count": 37,
   "id": "03312845-b42a-467a-a3b6-7218bb4ca7f7",
   "metadata": {},
   "outputs": [
    {
     "data": {
      "text/plain": [
       "['a', 'b', 'c', 1, 2, 3, 'd']"
      ]
     },
     "execution_count": 37,
     "metadata": {},
     "output_type": "execute_result"
    }
   ],
   "source": [
    "list1.extend(\"d\")\n",
    "list1"
   ]
  },
  {
   "cell_type": "code",
   "execution_count": 38,
   "id": "cd3f5945-273f-44b7-bea8-fec800bb05ff",
   "metadata": {},
   "outputs": [
    {
     "data": {
      "text/plain": [
       "[11, 22, 33, 44, [55, 66]]"
      ]
     },
     "execution_count": 38,
     "metadata": {},
     "output_type": "execute_result"
    }
   ],
   "source": [
    "list1 = [11, 22, 33, 44]\n",
    "list1.append([55,66])\n",
    "list1"
   ]
  },
  {
   "cell_type": "code",
   "execution_count": 39,
   "id": "6ac8526d-542d-4ec7-8f4e-b16245ea3f1a",
   "metadata": {},
   "outputs": [
    {
     "data": {
      "text/plain": [
       "[11, 22, 33, 44, 55, 66]"
      ]
     },
     "execution_count": 39,
     "metadata": {},
     "output_type": "execute_result"
    }
   ],
   "source": [
    "list1 = [11, 22, 33, 44]\n",
    "list1.extend([55,66])\n",
    "list1"
   ]
  },
  {
   "cell_type": "code",
   "execution_count": 50,
   "id": "705ebcf1-0903-4b01-a238-77bfa78c29e1",
   "metadata": {},
   "outputs": [
    {
     "name": "stdout",
     "output_type": "stream",
     "text": [
      "[11, 22, 33, 44]\n",
      "[11, 22, 33]\n"
     ]
    }
   ],
   "source": [
    "list1 = [11, 22, 33, 44]\n",
    "print(list1)#prints the entire list\n",
    "\n",
    "del list1[3] #delete 44\n",
    "print(list1)"
   ]
  },
  {
   "cell_type": "code",
   "execution_count": 41,
   "id": "b44e251f-c9fc-4473-94fa-9332e36b4d22",
   "metadata": {},
   "outputs": [
    {
     "name": "stdout",
     "output_type": "stream",
     "text": [
      "[11, 22, 33, 44]\n"
     ]
    }
   ],
   "source": [
    "list1 = [11, 22, 33, 44]\n",
    "print(list1)"
   ]
  },
  {
   "cell_type": "code",
   "execution_count": 43,
   "id": "ea3c38b1-4b74-4ae4-bfc7-fb702e418911",
   "metadata": {},
   "outputs": [
    {
     "name": "stdout",
     "output_type": "stream",
     "text": [
      "n = 44\n",
      "list1 =  [11, 22, 33]\n"
     ]
    }
   ],
   "source": [
    "n = list1.pop()\n",
    "print(\"n =\",n)\n",
    "print(\"list1 = \",list1)"
   ]
  },
  {
   "cell_type": "code",
   "execution_count": 44,
   "id": "eca13aec-0a34-4456-94c9-2f35aad4061c",
   "metadata": {},
   "outputs": [
    {
     "name": "stdout",
     "output_type": "stream",
     "text": [
      "[11, 22, 33, 44]\n",
      "[11, 22, 33]\n"
     ]
    }
   ],
   "source": [
    "list1 = [11, 22, 33, 44]\n",
    "print(list1)\n",
    "\n",
    "list1.remove(44)\n",
    "print(list1)"
   ]
  },
  {
   "cell_type": "code",
   "execution_count": 45,
   "id": "e1df12dd-4590-400f-807d-55b31774b69d",
   "metadata": {},
   "outputs": [
    {
     "data": {
      "text/plain": [
       "[20, 30, 40, 50]"
      ]
     },
     "execution_count": 45,
     "metadata": {},
     "output_type": "execute_result"
    }
   ],
   "source": [
    "a_list = [10, 20 , 30, 40, 50, 60, 70, 80]\n",
    "a_list[1:5]"
   ]
  },
  {
   "cell_type": "code",
   "execution_count": 46,
   "id": "a52b9446-28a3-4f73-a734-be100bbaa29a",
   "metadata": {},
   "outputs": [
    {
     "data": {
      "text/plain": [
       "[10, 20, 30, 40, 50]"
      ]
     },
     "execution_count": 46,
     "metadata": {},
     "output_type": "execute_result"
    }
   ],
   "source": [
    "a_list[0:5]"
   ]
  },
  {
   "cell_type": "code",
   "execution_count": 47,
   "id": "2c460e70-8b64-47e7-9a73-f6b8ca62b7e2",
   "metadata": {},
   "outputs": [
    {
     "data": {
      "text/plain": [
       "[20, 30, 40, 50, 60, 70, 80]"
      ]
     },
     "execution_count": 47,
     "metadata": {},
     "output_type": "execute_result"
    }
   ],
   "source": [
    "a_list[1:]"
   ]
  },
  {
   "cell_type": "code",
   "execution_count": 48,
   "id": "bbfd6844-8d0b-4c89-93d7-2835634df3d5",
   "metadata": {},
   "outputs": [
    {
     "data": {
      "text/plain": [
       "[10, 20, 30, 40, 50]"
      ]
     },
     "execution_count": 48,
     "metadata": {},
     "output_type": "execute_result"
    }
   ],
   "source": [
    "a_list[:5]"
   ]
  },
  {
   "cell_type": "code",
   "execution_count": 49,
   "id": "16e9f46b-ed3d-48b3-8266-c134aa95ae6f",
   "metadata": {},
   "outputs": [
    {
     "data": {
      "text/plain": [
       "[10, 20, 30, 40, 50, 60, 70, 80]"
      ]
     },
     "execution_count": 49,
     "metadata": {},
     "output_type": "execute_result"
    }
   ],
   "source": [
    "a_list[:]"
   ]
  },
  {
   "cell_type": "code",
   "execution_count": null,
   "id": "b00f6946-8973-4e0c-9a08-fc0a15aab6b5",
   "metadata": {},
   "outputs": [],
   "source": []
  }
 ],
 "metadata": {
  "kernelspec": {
   "display_name": "Python 3 (ipykernel)",
   "language": "python",
   "name": "python3"
  },
  "language_info": {
   "codemirror_mode": {
    "name": "ipython",
    "version": 3
   },
   "file_extension": ".py",
   "mimetype": "text/x-python",
   "name": "python",
   "nbconvert_exporter": "python",
   "pygments_lexer": "ipython3",
   "version": "3.11.7"
  }
 },
 "nbformat": 4,
 "nbformat_minor": 5
}
